{
 "cells": [
  {
   "cell_type": "markdown",
   "metadata": {
    "slideshow": {
     "slide_type": "slide"
    }
   },
   "source": [
    "# 10 things you really should know about jupyter notebooks\n",
    "\n",
    "<img src=\"resources/pics/pydata.png\" width=\"600\">"
   ]
  },
  {
   "cell_type": "markdown",
   "metadata": {
    "slideshow": {
     "slide_type": "slide"
    }
   },
   "source": [
    "# Who am I, who are we, why notebooks, where can I get some coffee\n",
    "\n"
   ]
  },
  {
   "cell_type": "markdown",
   "metadata": {
    "slideshow": {
     "slide_type": "subslide"
    }
   },
   "source": [
    "<img src=\"resources/pics/pexels-photo-321552.jpeg\" alt=\"Drawing\" style=\"width: 200px;\"/>\n",
    "\n",
    "\n",
    "## Jakub Czakon \n",
    "*jakub.czakon@deepsense.ai* \n",
    "\n",
    "*https://github.com/jakubczakon*\n",
    "\n",
    "## I do:\n",
    "### - deep learning\n",
    "### - machine learning\n",
    "### - presentations"
   ]
  },
  {
   "cell_type": "markdown",
   "metadata": {
    "slideshow": {
     "slide_type": "subslide"
    }
   },
   "source": [
    "![query](https://deepsense.ai/wp-content/uploads/2017/07/1-300x71.png)\n",
    "\n",
    "## deepsense.ai\n",
    "*contact@deepsense.ai*\n",
    "\n",
    "*https://deepsense.ai/*\n",
    "\n",
    "## We do:\n",
    "### - services\n",
    "### - workshops\n",
    "### - products https://neptune.ml/"
   ]
  },
  {
   "cell_type": "markdown",
   "metadata": {
    "slideshow": {
     "slide_type": "slide"
    }
   },
   "source": [
    "# Agenda\n",
    "* Styling\n",
    "    - Packages\n",
    "    - DIY\n",
    "* Extensions\n",
    "  - Build-in\n",
    "  - Config\n",
    "* Magics\n",
    "  - Build-in\n",
    "  - Packages\n",
    "  - DIY\n",
    "* Interactive Visualizations\n",
    "  - Widgets and interact\n",
    "  - qgrid\n",
    "  - displays\n",
    "  - bokeh\n",
    "* Stuff that I forgot (not really just didn't know where to put them)"
   ]
  },
  {
   "cell_type": "markdown",
   "metadata": {
    "slideshow": {
     "slide_type": "subslide"
    }
   },
   "source": [
    "## Code available at:\n",
    "\n",
    "https://github.com/deepsense-ai/pydatawarsaw-notebooks"
   ]
  },
  {
   "cell_type": "markdown",
   "metadata": {
    "slideshow": {
     "slide_type": "slide"
    }
   },
   "source": [
    "# Styling"
   ]
  },
  {
   "cell_type": "markdown",
   "metadata": {
    "slideshow": {
     "slide_type": "fragment"
    }
   },
   "source": [
    "![query](resources/pics/unstyled_notebook.png)\n"
   ]
  },
  {
   "cell_type": "markdown",
   "metadata": {
    "slideshow": {
     "slide_type": "subslide"
    }
   },
   "source": [
    "![query](resources/pics/styled_notebook.png)"
   ]
  },
  {
   "cell_type": "markdown",
   "metadata": {
    "slideshow": {
     "slide_type": "slide"
    }
   },
   "source": [
    "## Packages\n",
    "\n",
    "### jupyter-themes\n",
    "https://github.com/dunovank/jupyter-themes\n",
    "\n",
    "\n",
    "list themes\n",
    "```bash\n",
    "jt - l\n",
    "```\n",
    "\n",
    "select themes\n",
    "```bash\n",
    "jt - t oceans16 -T\n",
    "```\n",
    "\n",
    "reset\n",
    "```bash\n",
    "jt - r\n",
    "```\n",
    "\n",
    "### jupyter-themer\n",
    "https://github.com/transcranial/jupyter-themer"
   ]
  },
  {
   "cell_type": "markdown",
   "metadata": {
    "slideshow": {
     "slide_type": "slide"
    }
   },
   "source": [
    "1. Here we go\n",
    "    1. Sublist\n",
    "    2. Sublist\n",
    "2. There we go\n",
    "3. Now this"
   ]
  },
  {
   "cell_type": "code",
   "execution_count": 1,
   "metadata": {
    "slideshow": {
     "slide_type": "fragment"
    }
   },
   "outputs": [],
   "source": [
    "class CoolClass():\n",
    "    def great_method(self):\n",
    "        return 'happy days'"
   ]
  },
  {
   "cell_type": "markdown",
   "metadata": {
    "slideshow": {
     "slide_type": "slide"
    }
   },
   "source": [
    "## Customize even more"
   ]
  },
  {
   "cell_type": "code",
   "execution_count": 2,
   "metadata": {
    "slideshow": {
     "slide_type": "fragment"
    }
   },
   "outputs": [],
   "source": [
    "%pycat ~/.jupyter/custom/custom.css"
   ]
  },
  {
   "cell_type": "code",
   "execution_count": 1,
   "metadata": {},
   "outputs": [],
   "source": [
    "!cp resources/deepsensify.css ~/.jupyter/custom/custom.css"
   ]
  },
  {
   "cell_type": "markdown",
   "metadata": {
    "slideshow": {
     "slide_type": "slide"
    }
   },
   "source": [
    "# Extensions"
   ]
  },
  {
   "cell_type": "markdown",
   "metadata": {
    "slideshow": {
     "slide_type": "fragment"
    }
   },
   "source": [
    "## Installation\n",
    "```bash\n",
    "pip install jupyter_contrib_nbextensions\n",
    "jupyter-contrib nbextension install --sys-prefix\n",
    "```"
   ]
  },
  {
   "cell_type": "markdown",
   "metadata": {
    "slideshow": {
     "slide_type": "slide"
    }
   },
   "source": [
    "## Split Cells"
   ]
  },
  {
   "cell_type": "code",
   "execution_count": 17,
   "metadata": {
    "cell_style": "split",
    "slideshow": {
     "slide_type": "fragment"
    }
   },
   "outputs": [
    {
     "name": "stdout",
     "output_type": "stream",
     "text": [
      "this bug is chilled\n",
      "this bug is chilled\n",
      "this bug is chilled\n",
      "this bug is chilled\n",
      "this bug is chilled\n",
      "this bug is chilled\n",
      "this bug is chilled\n",
      "this bug is chilled\n",
      "this bug is chilled\n",
      "this bug is chilled\n",
      "this bug is chilled\n",
      "this bug is chilled\n",
      "this bug is chilled\n",
      "this bug is chilled\n",
      "this bug is chilled\n"
     ]
    }
   ],
   "source": [
    "for i in range(15):\n",
    "    print('this bug is chilled')"
   ]
  },
  {
   "cell_type": "code",
   "execution_count": 18,
   "metadata": {
    "cell_style": "split",
    "slideshow": {
     "slide_type": "fragment"
    }
   },
   "outputs": [
    {
     "data": {
      "image/png": "[encoded data removed]",
      "text/plain": [
       "<matplotlib.figure.Figure at 0x7f53a2c415f8>"
      ]
     },
     "metadata": {},
     "output_type": "display_data"
    }
   ],
   "source": [
    "import matplotlib.pyplot as plt\n",
    "img = plt.imread('resources/img_dir/insect.jpg')\n",
    "plt.imshow(img);\n",
    "plt.show();"
   ]
  },
  {
   "cell_type": "markdown",
   "metadata": {
    "slideshow": {
     "slide_type": "slide"
    }
   },
   "source": [
    "## python 2to3 conversion"
   ]
  },
  {
   "cell_type": "code",
   "execution_count": 20,
   "metadata": {
    "slideshow": {
     "slide_type": "fragment"
    }
   },
   "outputs": [
    {
     "ename": "SyntaxError",
     "evalue": "Missing parentheses in call to 'print' (<ipython-input-20-c2c0ff53b79c>, line 5)",
     "output_type": "error",
     "traceback": [
      "\u001b[0;36m  File \u001b[0;32m\"<ipython-input-20-c2c0ff53b79c>\"\u001b[0;36m, line \u001b[0;32m5\u001b[0m\n\u001b[0;31m    print a,b\u001b[0m\n\u001b[0m          ^\u001b[0m\n\u001b[0;31mSyntaxError\u001b[0m\u001b[0;31m:\u001b[0m Missing parentheses in call to 'print'\n"
     ]
    }
   ],
   "source": [
    "from itertools import izip\n",
    "a = range(10)\n",
    "b = 'abcdefghij'\n",
    "for a,b in izip(a,b):\n",
    "    print a,b"
   ]
  },
  {
   "cell_type": "code",
   "execution_count": 21,
   "metadata": {
    "slideshow": {
     "slide_type": "fragment"
    }
   },
   "outputs": [
    {
     "name": "stdout",
     "output_type": "stream",
     "text": [
      "0 a\n",
      "1 b\n",
      "2 c\n",
      "3 d\n",
      "4 e\n",
      "5 f\n",
      "6 g\n",
      "7 h\n",
      "8 i\n",
      "9 j\n"
     ]
    }
   ],
   "source": [
    "a = list(range(10))\n",
    "b = 'abcdefghij'\n",
    "for a,b in zip(a,b):\n",
    "    print(a,b)"
   ]
  },
  {
   "cell_type": "markdown",
   "metadata": {
    "slideshow": {
     "slide_type": "slide"
    }
   },
   "source": [
    "## Codefolding"
   ]
  },
  {
   "cell_type": "code",
   "execution_count": null,
   "metadata": {
    "code_folding": [
     1,
     3
    ],
    "slideshow": {
     "slide_type": "fragment"
    }
   },
   "outputs": [],
   "source": [
    "class VeryLongClass():\n",
    "    def super_long_method(self):\n",
    "        return\n",
    "    def even_longer_method(self):\n",
    "        return"
   ]
  },
  {
   "cell_type": "markdown",
   "metadata": {
    "slideshow": {
     "slide_type": "slide"
    }
   },
   "source": [
    "## Limit output"
   ]
  },
  {
   "cell_type": "code",
   "execution_count": 4,
   "metadata": {
    "slideshow": {
     "slide_type": "fragment"
    }
   },
   "outputs": [
    {
     "name": "stdout",
     "output_type": "stream",
     "text": [
      "some stuff\n",
      "some stuff\n",
      "some stuff\n",
      "some stuff\n",
      "some stuff\n",
      "some stuff\n",
      "some stuff\n",
      "some stuff\n",
      "some stuff\n",
      "some stuff\n",
      "some stuff\n",
      "some stuff\n",
      "some stuff\n",
      "some stuff\n",
      "some stuff\n",
      "some stuff\n",
      "some stuff\n",
      "some stuff\n",
      "some stuff\n",
      "some stuff\n",
      "some stuff\n",
      "some stuff\n",
      "some stuff\n",
      "some stuff\n",
      "some stuff\n"
     ]
    }
   ],
   "source": [
    "for i in range(25):\n",
    "    print('some stuff')"
   ]
  },
  {
   "cell_type": "markdown",
   "metadata": {
    "slideshow": {
     "slide_type": "slide"
    }
   },
   "source": [
    "## Snippets"
   ]
  },
  {
   "cell_type": "markdown",
   "metadata": {
    "slideshow": {
     "slide_type": "subslide"
    }
   },
   "source": [
    "1. Here we go\n",
    "    1. Sublist\n",
    "    2. Sublist\n",
    "2. There we go* One\n",
    "    - Sublist\n",
    "        - This\n",
    "  - Sublist\n",
    "        - That\n",
    "        - The other thing\n",
    "* Two\n",
    "  - Sublist\n",
    "* Three\n",
    "  - Sublist\n",
    "3. Now this"
   ]
  },
  {
   "cell_type": "code",
   "execution_count": 4,
   "metadata": {
    "slideshow": {
     "slide_type": "subslide"
    }
   },
   "outputs": [
    {
     "data": {
      "text/plain": [
       "'a'"
      ]
     },
     "execution_count": 4,
     "metadata": {},
     "output_type": "execute_result"
    }
   ],
   "source": [
    "class BPSomeClass(object):\n",
    "    r\"\"\"Describe the class\"\"\"\n",
    "    def __init__(self, arg1, arg2):\n",
    "        self.attr1 = arg1\n",
    "        self.attr2 = arg2\n",
    "    \n",
    "    def attribute1(self):\n",
    "        return self.attr1\n",
    "bp_obj = BPSomeClass(\"a\", 2.7182)\n",
    "bp_obj.attribute1()"
   ]
  },
  {
   "cell_type": "markdown",
   "metadata": {
    "slideshow": {
     "slide_type": "slide"
    }
   },
   "source": [
    "## Hiding"
   ]
  },
  {
   "cell_type": "code",
   "execution_count": 7,
   "metadata": {
    "hide_input": false,
    "slideshow": {
     "slide_type": "fragment"
    }
   },
   "outputs": [
    {
     "data": {
      "text/plain": [
       "'amazing output that makes client happy'"
      ]
     },
     "execution_count": 7,
     "metadata": {},
     "output_type": "execute_result"
    }
   ],
   "source": [
    "def some_ugly_code():\n",
    "    def even_uglier_function():\n",
    "        this_does_nothing = 0\n",
    "        this_gets_out = 'output'\n",
    "        return this_gets_out\n",
    "    SOME_CONSTANT = 'amazing'\n",
    "    def _another_weird_function():\n",
    "        x = 'client happy'\n",
    "        return x    \n",
    "    def maker():\n",
    "        return 'makes'\n",
    "    \n",
    "    string = '%s %s that %s %s'%(SOME_CONSTANT, even_uglier_function(),maker(), _another_weird_function()) \n",
    "    return string\n",
    "\n",
    "some_ugly_code()"
   ]
  },
  {
   "cell_type": "markdown",
   "metadata": {
    "slideshow": {
     "slide_type": "slide"
    }
   },
   "source": [
    "## Tree Filter\n",
    "\n",
    "DEMO"
   ]
  },
  {
   "cell_type": "markdown",
   "metadata": {
    "slideshow": {
     "slide_type": "slide"
    }
   },
   "source": [
    "## Slideshow\n",
    "\n",
    "You are watching the DEMO\n",
    "\n",
    "```bash\n",
    "jupyter nbconvert amazing_notebook_presentation.ipynb --to slides --post serve\n",
    "```"
   ]
  },
  {
   "cell_type": "markdown",
   "metadata": {
    "slideshow": {
     "slide_type": "slide"
    }
   },
   "source": [
    "# Magics"
   ]
  },
  {
   "cell_type": "code",
   "execution_count": 8,
   "metadata": {
    "slideshow": {
     "slide_type": "subslide"
    }
   },
   "outputs": [
    {
     "data": {
      "text/plain": [
       "Available line magics:\n",
       "%alias  %alias_magic  %autocall  %automagic  %autosave  %bookmark  %cat  %cd  %clear  %colors  %config  %connect_info  %cp  %debug  %dhist  %dirs  %doctest_mode  %ed  %edit  %env  %gui  %hist  %history  %killbgscripts  %ldir  %less  %lf  %lk  %ll  %load  %load_ext  %loadpy  %logoff  %logon  %logstart  %logstate  %logstop  %ls  %lsmagic  %lx  %macro  %magic  %man  %matplotlib  %mkdir  %more  %mv  %notebook  %page  %pastebin  %pdb  %pdef  %pdoc  %pfile  %pinfo  %pinfo2  %popd  %pprint  %precision  %profile  %prun  %psearch  %psource  %pushd  %pwd  %pycat  %pylab  %qtconsole  %quickref  %recall  %rehashx  %reload_ext  %rep  %rerun  %reset  %reset_selective  %rm  %rmdir  %run  %save  %sc  %set_env  %store  %sx  %system  %tb  %time  %timeit  %unalias  %unload_ext  %who  %who_ls  %whos  %xdel  %xmode\n",
       "\n",
       "Available cell magics:\n",
       "%%!  %%HTML  %%SVG  %%bash  %%capture  %%debug  %%file  %%html  %%javascript  %%js  %%latex  %%markdown  %%perl  %%prun  %%pypy  %%python  %%python2  %%python3  %%ruby  %%script  %%sh  %%svg  %%sx  %%system  %%time  %%timeit  %%writefile\n",
       "\n",
       "Automagic is ON, % prefix IS NOT needed for line magics."
      ]
     },
     "execution_count": 8,
     "metadata": {},
     "output_type": "execute_result"
    }
   ],
   "source": [
    "%lsmagic"
   ]
  },
  {
   "cell_type": "markdown",
   "metadata": {
    "slideshow": {
     "slide_type": "slide"
    }
   },
   "source": [
    "## Line Magic %"
   ]
  },
  {
   "cell_type": "markdown",
   "metadata": {
    "slideshow": {
     "slide_type": "slide"
    }
   },
   "source": [
    "### environment"
   ]
  },
  {
   "cell_type": "code",
   "execution_count": 33,
   "metadata": {
    "slideshow": {
     "slide_type": "subslide"
    }
   },
   "outputs": [
    {
     "name": "stdout",
     "output_type": "stream",
     "text": [
      "env: CUDA_DEVICE_ORDER=PCI_BUS_ID\n",
      "env: CUDA_VISIBLE_DEVICES=1\n"
     ]
    }
   ],
   "source": [
    "%env CUDA_DEVICE_ORDER=PCI_BUS_ID\n",
    "%env CUDA_VISIBLE_DEVICES=1"
   ]
  },
  {
   "cell_type": "code",
   "execution_count": 40,
   "metadata": {
    "slideshow": {
     "slide_type": "subslide"
    }
   },
   "outputs": [],
   "source": [
    "%colors NoColor"
   ]
  },
  {
   "cell_type": "code",
   "execution_count": 41,
   "metadata": {
    "slideshow": {
     "slide_type": "fragment"
    }
   },
   "outputs": [
    {
     "ename": "SyntaxError",
     "evalue": "Missing parentheses in call to 'print' (<ipython-input-41-1c7e8e50f7dc>, line 2)",
     "output_type": "error",
     "traceback": [
      "  File \"<ipython-input-41-1c7e8e50f7dc>\", line 2\n    print b\n          ^\nSyntaxError: Missing parentheses in call to 'print'\n"
     ]
    }
   ],
   "source": [
    "for b in range(10):\n",
    "    print b"
   ]
  },
  {
   "cell_type": "code",
   "execution_count": 42,
   "metadata": {
    "slideshow": {
     "slide_type": "fragment"
    }
   },
   "outputs": [],
   "source": [
    "%colors Linux"
   ]
  },
  {
   "cell_type": "code",
   "execution_count": 43,
   "metadata": {
    "slideshow": {
     "slide_type": "fragment"
    }
   },
   "outputs": [
    {
     "ename": "SyntaxError",
     "evalue": "Missing parentheses in call to 'print' (<ipython-input-43-1c7e8e50f7dc>, line 2)",
     "output_type": "error",
     "traceback": [
      "\u001b[1;36m  File \u001b[1;32m\"<ipython-input-43-1c7e8e50f7dc>\"\u001b[1;36m, line \u001b[1;32m2\u001b[0m\n\u001b[1;33m    print b\u001b[0m\n\u001b[1;37m          ^\u001b[0m\n\u001b[1;31mSyntaxError\u001b[0m\u001b[1;31m:\u001b[0m Missing parentheses in call to 'print'\n"
     ]
    }
   ],
   "source": [
    "for b in range(10):\n",
    "    print b"
   ]
  },
  {
   "cell_type": "markdown",
   "metadata": {
    "slideshow": {
     "slide_type": "slide"
    }
   },
   "source": [
    "### working with files"
   ]
  },
  {
   "cell_type": "code",
   "execution_count": 44,
   "metadata": {
    "slideshow": {
     "slide_type": "subslide"
    }
   },
   "outputs": [
    {
     "name": "stdout",
     "output_type": "stream",
     "text": [
      "Overwriting resources/pythoncode.py\n"
     ]
    }
   ],
   "source": [
    "%%writefile resources/pythoncode.py\n",
    "\n",
    "def awesome_code():\n",
    "    \"\"\"Do magic\"\"\"\n",
    "    print('playing with data')\n",
    "    return 'Value'"
   ]
  },
  {
   "cell_type": "code",
   "execution_count": 45,
   "metadata": {
    "slideshow": {
     "slide_type": "subslide"
    }
   },
   "outputs": [],
   "source": [
    "%pycat resources/pythoncode.py"
   ]
  },
  {
   "cell_type": "code",
   "execution_count": null,
   "metadata": {
    "slideshow": {
     "slide_type": "subslide"
    }
   },
   "outputs": [],
   "source": [
    "%load resources/pythoncode.py"
   ]
  },
  {
   "cell_type": "code",
   "execution_count": 49,
   "metadata": {
    "slideshow": {
     "slide_type": "fragment"
    }
   },
   "outputs": [
    {
     "name": "stdout",
     "output_type": "stream",
     "text": [
      "playing with data\n"
     ]
    },
    {
     "data": {
      "text/plain": [
       "'Value'"
      ]
     },
     "execution_count": 49,
     "metadata": {},
     "output_type": "execute_result"
    }
   ],
   "source": [
    "# %load resources/pythoncode.py\n",
    "\n",
    "def awesome_code():\n",
    "    \"\"\"Do magic\"\"\"\n",
    "    print('playing with data')\n",
    "    return 'Value'\n",
    "\n",
    "awesome_code()"
   ]
  },
  {
   "cell_type": "code",
   "execution_count": 50,
   "metadata": {
    "slideshow": {
     "slide_type": "subslide"
    }
   },
   "outputs": [
    {
     "name": "stdout",
     "output_type": "stream",
     "text": [
      "playing with data\n"
     ]
    }
   ],
   "source": [
    "%run resources/pythoncode.py"
   ]
  },
  {
   "cell_type": "markdown",
   "metadata": {
    "slideshow": {
     "slide_type": "slide"
    }
   },
   "source": [
    "### debugging"
   ]
  },
  {
   "cell_type": "code",
   "execution_count": 51,
   "metadata": {
    "slideshow": {
     "slide_type": "fragment"
    }
   },
   "outputs": [
    {
     "name": "stdout",
     "output_type": "stream",
     "text": [
      "playing with data\n",
      " "
     ]
    }
   ],
   "source": [
    "%%prun\n",
    "awesome_code()"
   ]
  },
  {
   "cell_type": "code",
   "execution_count": 52,
   "metadata": {
    "slideshow": {
     "slide_type": "fragment"
    }
   },
   "outputs": [
    {
     "name": "stdout",
     "output_type": "stream",
     "text": [
      "Automatic pdb calling has been turned ON\n",
      "playing with data\n"
     ]
    },
    {
     "data": {
      "text/plain": [
       "'Value'"
      ]
     },
     "execution_count": 52,
     "metadata": {},
     "output_type": "execute_result"
    }
   ],
   "source": [
    "%pdb\n",
    "awesome_code()"
   ]
  },
  {
   "cell_type": "markdown",
   "metadata": {
    "slideshow": {
     "slide_type": "slide"
    }
   },
   "source": [
    "### share data between notebooks"
   ]
  },
  {
   "cell_type": "code",
   "execution_count": 53,
   "metadata": {
    "slideshow": {
     "slide_type": "fragment"
    }
   },
   "outputs": [],
   "source": [
    "import numpy as np\n",
    "\n",
    "table = np.random.random((10,100))"
   ]
  },
  {
   "cell_type": "code",
   "execution_count": 54,
   "metadata": {
    "slideshow": {
     "slide_type": "fragment"
    }
   },
   "outputs": [
    {
     "name": "stdout",
     "output_type": "stream",
     "text": [
      "Stored 'table' (ndarray)\n"
     ]
    }
   ],
   "source": [
    "%store table"
   ]
  },
  {
   "cell_type": "code",
   "execution_count": 55,
   "metadata": {
    "slideshow": {
     "slide_type": "fragment"
    }
   },
   "outputs": [],
   "source": [
    "#In other notebook\n",
    "%store -r table"
   ]
  },
  {
   "cell_type": "markdown",
   "metadata": {
    "slideshow": {
     "slide_type": "slide"
    }
   },
   "source": [
    "### timing"
   ]
  },
  {
   "cell_type": "code",
   "execution_count": 17,
   "metadata": {
    "slideshow": {
     "slide_type": "fragment"
    }
   },
   "outputs": [
    {
     "name": "stdout",
     "output_type": "stream",
     "text": [
      "good timing\n",
      "CPU times: user 0 ns, sys: 0 ns, total: 0 ns\n",
      "Wall time: 236 µs\n"
     ]
    }
   ],
   "source": [
    "%time print('good timing')"
   ]
  },
  {
   "cell_type": "code",
   "execution_count": 18,
   "metadata": {
    "slideshow": {
     "slide_type": "fragment"
    }
   },
   "outputs": [
    {
     "name": "stdout",
     "output_type": "stream",
     "text": [
      "good timing\n",
      "CPU times: user 0 ns, sys: 0 ns, total: 0 ns\n",
      "Wall time: 5.36 ms\n"
     ]
    }
   ],
   "source": [
    "%%time\n",
    "print('good timing')"
   ]
  },
  {
   "cell_type": "code",
   "execution_count": 19,
   "metadata": {
    "slideshow": {
     "slide_type": "fragment"
    }
   },
   "outputs": [
    {
     "name": "stdout",
     "output_type": "stream",
     "text": [
      "good timing\n",
      "good timing\n",
      "good timing\n",
      "good timing\n",
      "good timing\n",
      "good timing\n",
      "good timing\n",
      "good timing\n",
      "good timing\n",
      "good timing\n",
      "636 µs ± 126 µs per loop (mean ± std. dev. of 2 runs, 5 loops each)\n"
     ]
    }
   ],
   "source": [
    "%%timeit -n 5 -r 2\n",
    "print('good timing')"
   ]
  },
  {
   "cell_type": "markdown",
   "metadata": {
    "slideshow": {
     "slide_type": "slide"
    }
   },
   "source": [
    "### other usefull stuff"
   ]
  },
  {
   "cell_type": "code",
   "execution_count": 20,
   "metadata": {
    "slideshow": {
     "slide_type": "subslide"
    }
   },
   "outputs": [],
   "source": [
    "%load_ext autoreload\n",
    "%autoreload 2\n",
    "\n",
    "from resources.pythoncode import awesome_code"
   ]
  },
  {
   "cell_type": "code",
   "execution_count": 21,
   "metadata": {
    "slideshow": {
     "slide_type": "subslide"
    }
   },
   "outputs": [],
   "source": [
    "%pdoc awesome_code"
   ]
  },
  {
   "cell_type": "code",
   "execution_count": 22,
   "metadata": {
    "slideshow": {
     "slide_type": "fragment"
    }
   },
   "outputs": [],
   "source": [
    "?awesome_code"
   ]
  },
  {
   "cell_type": "code",
   "execution_count": 23,
   "metadata": {
    "slideshow": {
     "slide_type": "subslide"
    }
   },
   "outputs": [
    {
     "name": "stdout",
     "output_type": "stream",
     "text": [
      "Available matplotlib backends: ['ipympl', 'widget', 'inline', 'agg', 'gtk', 'tk', 'notebook', 'wx', 'osx', 'qt5', 'nbagg', 'qt4', 'gtk3', 'qt']\n"
     ]
    }
   ],
   "source": [
    "%matplotlib --list\n",
    "%matplotlib inline"
   ]
  },
  {
   "cell_type": "markdown",
   "metadata": {
    "slideshow": {
     "slide_type": "slide"
    }
   },
   "source": [
    "## Cell Magic %%"
   ]
  },
  {
   "cell_type": "markdown",
   "metadata": {
    "slideshow": {
     "slide_type": "slide"
    }
   },
   "source": [
    "### polyglottery"
   ]
  },
  {
   "cell_type": "code",
   "execution_count": null,
   "metadata": {
    "slideshow": {
     "slide_type": "fragment"
    }
   },
   "outputs": [],
   "source": [
    "%%bash"
   ]
  },
  {
   "cell_type": "code",
   "execution_count": null,
   "metadata": {
    "slideshow": {
     "slide_type": "fragment"
    }
   },
   "outputs": [],
   "source": [
    "%%rpy2"
   ]
  },
  {
   "cell_type": "code",
   "execution_count": null,
   "metadata": {
    "slideshow": {
     "slide_type": "fragment"
    }
   },
   "outputs": [],
   "source": [
    "%%cpp"
   ]
  },
  {
   "cell_type": "code",
   "execution_count": null,
   "metadata": {
    "slideshow": {
     "slide_type": "fragment"
    }
   },
   "outputs": [],
   "source": [
    "%%perl"
   ]
  },
  {
   "cell_type": "code",
   "execution_count": null,
   "metadata": {
    "slideshow": {
     "slide_type": "fragment"
    }
   },
   "outputs": [],
   "source": [
    "%%ruby"
   ]
  },
  {
   "cell_type": "code",
   "execution_count": null,
   "metadata": {
    "slideshow": {
     "slide_type": "fragment"
    }
   },
   "outputs": [],
   "source": [
    "%%fortran"
   ]
  },
  {
   "cell_type": "code",
   "execution_count": 5,
   "metadata": {
    "hide_input": false,
    "slideshow": {
     "slide_type": "slide"
    }
   },
   "outputs": [
    {
     "data": {
      "text/latex": [
       "\\begin{align}\\mu_{\\beta } \\leftarrow  \\frac{1}{m} \\sum_{i=1}^{m} x_{i}\\end{align}\n",
       "\\begin{align}\\sigma_{\\beta }^{2} \\leftarrow  \\frac{1}{m} \\sum_{i=1}^{m} (x_{i}-\\mu_{\\beta })^{2}\\end{align}\n",
       "\\begin{align}\\widehat{x_{i}} \\leftarrow \\frac{x_{i}-\\mu _{\\beta }}{\\sqrt{\\sigma _{\\beta }^{2}+\\varepsilon }}\\end{align}\n",
       "\\begin{align}y_{i} \\leftarrow \\gamma \\widehat{x_{i}}+\\beta \\equiv BN_{\\gamma ,\\beta }(x_{i})\\end{align}"
      ],
      "text/plain": [
       "<IPython.core.display.Latex object>"
      ]
     },
     "metadata": {},
     "output_type": "display_data"
    }
   ],
   "source": [
    "%%latex\n",
    "\\begin{align}\\mu_{\\beta } \\leftarrow  \\frac{1}{m} \\sum_{i=1}^{m} x_{i}\\end{align}\n",
    "\\begin{align}\\sigma_{\\beta }^{2} \\leftarrow  \\frac{1}{m} \\sum_{i=1}^{m} (x_{i}-\\mu_{\\beta })^{2}\\end{align}\n",
    "\\begin{align}\\widehat{x_{i}} \\leftarrow \\frac{x_{i}-\\mu _{\\beta }}{\\sqrt{\\sigma _{\\beta }^{2}+\\varepsilon }}\\end{align}\n",
    "\\begin{align}y_{i} \\leftarrow \\gamma \\widehat{x_{i}}+\\beta \\equiv BN_{\\gamma ,\\beta }(x_{i})\\end{align}"
   ]
  },
  {
   "cell_type": "markdown",
   "metadata": {
    "slideshow": {
     "slide_type": "slide"
    }
   },
   "source": [
    "### more file handling "
   ]
  },
  {
   "cell_type": "code",
   "execution_count": 56,
   "metadata": {
    "slideshow": {
     "slide_type": "fragment"
    }
   },
   "outputs": [
    {
     "name": "stdout",
     "output_type": "stream",
     "text": [
      "Overwriting resources/simple.py\n"
     ]
    }
   ],
   "source": [
    "%%writefile resources/simple.py\n",
    "\n",
    "def great_model():\n",
    "    print('your magic worked')\n",
    "\n",
    "if __name__ =='__main__':\n",
    "    great_model()"
   ]
  },
  {
   "cell_type": "code",
   "execution_count": 57,
   "metadata": {
    "slideshow": {
     "slide_type": "fragment"
    }
   },
   "outputs": [
    {
     "name": "stdout",
     "output_type": "stream",
     "text": [
      "adding_extensions.ipynb\n",
      "interactive_vis.ipynb\n",
      "other stuff.ipynb\n",
      "requirements.txt\n",
      "resources\n",
      "slides.ipynb\n",
      "styling.ipynb\n",
      "using_magics.ipynb\n",
      "your magic worked\n"
     ]
    }
   ],
   "source": [
    "%%sh\n",
    "ls\n",
    "python resources/simple.py"
   ]
  },
  {
   "cell_type": "markdown",
   "metadata": {
    "slideshow": {
     "slide_type": "slide"
    }
   },
   "source": [
    "## Look for magic "
   ]
  },
  {
   "cell_type": "code",
   "execution_count": null,
   "metadata": {
    "slideshow": {
     "slide_type": "fragment"
    }
   },
   "outputs": [],
   "source": [
    "!pip install watermark"
   ]
  },
  {
   "cell_type": "code",
   "execution_count": 25,
   "metadata": {
    "slideshow": {
     "slide_type": "fragment"
    }
   },
   "outputs": [
    {
     "name": "stdout",
     "output_type": "stream",
     "text": [
      "2017-10-12T09:23:21+02:00\n",
      "\n",
      "CPython 3.5.2\n",
      "IPython 6.2.1\n",
      "\n",
      "compiler   : GCC 5.4.0 20160609\n",
      "system     : Linux\n",
      "release    : 4.4.0-96-generic\n",
      "machine    : x86_64\n",
      "processor  : x86_64\n",
      "CPU cores  : 4\n",
      "interpreter: 64bit\n"
     ]
    }
   ],
   "source": [
    "%reload_ext watermark\n",
    "%watermark"
   ]
  },
  {
   "cell_type": "markdown",
   "metadata": {
    "slideshow": {
     "slide_type": "slide"
    }
   },
   "source": [
    "## Create Magic "
   ]
  },
  {
   "cell_type": "code",
   "execution_count": null,
   "metadata": {
    "slideshow": {
     "slide_type": "subslide"
    }
   },
   "outputs": [],
   "source": [
    "# %load resources/plot_dir.py\n",
    "import os, glob\n",
    "import matplotlib.pyplot as plt\n",
    "from IPython.core.magic import Magics, magics_class, line_magic, cell_magic\n",
    "\n",
    "@magics_class\n",
    "class PlotDirMagic(Magics):\n",
    "    @line_magic('snapshot')\n",
    "    def plot_dir(self, line='', cell=''):  \n",
    "        path, nr = line.split(' ')\n",
    "        dir_path = os.path.join(os.getcwd(), path)\n",
    "        filepaths = glob.glob('{}/*'.format(dir_path))\n",
    "        \n",
    "        fig, axes = plt.subplots(1, int(nr), figsize=(16,12));\n",
    "        for ax,filepath in zip(axes, filepaths):\n",
    "            img = plt.imread(filepath)\n",
    "            ax.imshow(img);\n",
    "            ax.get_xaxis().set_visible(False)\n",
    "            ax.get_yaxis().set_visible(False)\n",
    "       \n",
    "def load_ipython_extension(ip):\n",
    "    ip.register_magics(PlotDirMagic)"
   ]
  },
  {
   "cell_type": "code",
   "execution_count": 27,
   "metadata": {
    "slideshow": {
     "slide_type": "subslide"
    }
   },
   "outputs": [
    {
     "data": {
      "image/png": "[encoded data removed]",
      "text/plain": [
       "<matplotlib.figure.Figure at 0x7f38078445c0>"
      ]
     },
     "metadata": {},
     "output_type": "display_data"
    }
   ],
   "source": [
    "%load_ext resources.plot_dir\n",
    "\n",
    "%snapshot resources/img_dir 3"
   ]
  },
  {
   "cell_type": "markdown",
   "metadata": {
    "slideshow": {
     "slide_type": "slide"
    }
   },
   "source": [
    "# Interactive vis"
   ]
  },
  {
   "cell_type": "markdown",
   "metadata": {
    "slideshow": {
     "slide_type": "slide"
    }
   },
   "source": [
    "## widgets and interact"
   ]
  },
  {
   "cell_type": "code",
   "execution_count": 4,
   "metadata": {
    "slideshow": {
     "slide_type": "subslide"
    }
   },
   "outputs": [
    {
     "data": {},
     "metadata": {},
     "output_type": "display_data"
    }
   ],
   "source": [
    "import ipywidgets\n",
    "\n",
    "int_range_slider = ipywidgets.IntSlider(value=5, min=0, max=20, step=1)\n",
    "int_range_slider"
   ]
  },
  {
   "cell_type": "code",
   "execution_count": 5,
   "metadata": {
    "slideshow": {
     "slide_type": "subslide"
    }
   },
   "outputs": [
    {
     "data": {},
     "metadata": {},
     "output_type": "display_data"
    }
   ],
   "source": [
    "ipywidgets.FloatRangeSlider(value=[0, 1], min=0.0, max=1.0, step=0.05)"
   ]
  },
  {
   "cell_type": "code",
   "execution_count": 6,
   "metadata": {
    "slideshow": {
     "slide_type": "subslide"
    }
   },
   "outputs": [
    {
     "data": {},
     "metadata": {},
     "output_type": "display_data"
    }
   ],
   "source": [
    "ipywidgets.ToggleButtons(options=['Slow', 'Regular', 'Fast'])"
   ]
  },
  {
   "cell_type": "code",
   "execution_count": 7,
   "metadata": {
    "slideshow": {
     "slide_type": "subslide"
    }
   },
   "outputs": [
    {
     "data": {},
     "metadata": {},
     "output_type": "display_data"
    }
   ],
   "source": [
    "multiselect=ipywidgets.SelectMultiple(options=['col_{}'.format(i) for i in range(5)],                                      \n",
    "                                      value=['col_{}'.format(i) for i in range(5)])\n",
    "multiselect"
   ]
  },
  {
   "cell_type": "code",
   "execution_count": 8,
   "metadata": {
    "slideshow": {
     "slide_type": "subslide"
    }
   },
   "outputs": [
    {
     "data": {},
     "metadata": {},
     "output_type": "display_data"
    }
   ],
   "source": [
    "ipywidgets.Text(value='Input text')"
   ]
  },
  {
   "cell_type": "code",
   "execution_count": 9,
   "metadata": {
    "slideshow": {
     "slide_type": "subslide"
    }
   },
   "outputs": [],
   "source": [
    "from ipywidgets import interact, fixed\n",
    "import pandas as pd\n",
    "import numpy as np\n",
    "\n",
    "def show_df(df, rows, columns):\n",
    "    tmp = df[list(columns)]\n",
    "    display(tmp.head(rows))\n",
    "\n",
    "table = pd.DataFrame(np.random.random((10,5)), columns=['col_{}'.format(i) for i in range(5)])"
   ]
  },
  {
   "cell_type": "code",
   "execution_count": 10,
   "metadata": {
    "slideshow": {
     "slide_type": "subslide"
    }
   },
   "outputs": [
    {
     "data": {},
     "metadata": {},
     "output_type": "display_data"
    }
   ],
   "source": [
    "interact(show_df, df=fixed(table), rows=int_range_slider, columns=multiselect);"
   ]
  },
  {
   "cell_type": "markdown",
   "metadata": {
    "slideshow": {
     "slide_type": "slide"
    }
   },
   "source": [
    "## qgrid\n",
    "```bash\n",
    "pip install qgrid\n",
    "```"
   ]
  },
  {
   "cell_type": "code",
   "execution_count": 11,
   "metadata": {
    "slideshow": {
     "slide_type": "subslide"
    }
   },
   "outputs": [
    {
     "data": {},
     "metadata": {},
     "output_type": "display_data"
    }
   ],
   "source": [
    "import qgrid\n",
    "\n",
    "qgrid.show_grid(table)"
   ]
  },
  {
   "cell_type": "markdown",
   "metadata": {
    "slideshow": {
     "slide_type": "slide"
    }
   },
   "source": [
    "## IPython displays"
   ]
  },
  {
   "cell_type": "code",
   "execution_count": 12,
   "metadata": {
    "slideshow": {
     "slide_type": "subslide"
    }
   },
   "outputs": [
    {
     "data": {
      "text/html": [
       "\n",
       "        <iframe\n",
       "            width=\"600\"\n",
       "            height=\"400\"\n",
       "            src=\"https://player.vimeo.com/video/138543647\"\n",
       "            frameborder=\"0\"\n",
       "            allowfullscreen\n",
       "        ></iframe>\n",
       "        "
      ],
      "text/plain": [
       "<IPython.lib.display.VimeoVideo at 0x7f53a3c2a780>"
      ]
     },
     "execution_count": 12,
     "metadata": {},
     "output_type": "execute_result"
    }
   ],
   "source": [
    "from IPython.display import VimeoVideo\n",
    "VimeoVideo(\"138543647\", width=600,height=400)"
   ]
  },
  {
   "cell_type": "code",
   "execution_count": 13,
   "metadata": {
    "slideshow": {
     "slide_type": "subslide"
    }
   },
   "outputs": [
    {
     "data": {
      "text/html": [
       "<script type=\"text/javascript\" src=\"code.jquery.com/jquery-latest.min.js\"></script>\n",
       "\n",
       "<script>\n",
       "jQuery(document).ready(function(){\n",
       "\n",
       "\tvar native_width = 0;\n",
       "\tvar native_height = 0;\n",
       "  $(\".large\").css(\"background\",\"url('\" + $(\".small\").attr(\"src\") + \"') no-repeat\");\n",
       "\n",
       "\t$(\".magnify\").mousemove(function(e){\n",
       "\t\tif(!native_width && !native_height)\n",
       "\t\t{\n",
       "\t\t\tvar image_object = new Image();\n",
       "\t\t\timage_object.src = $(\".small\").attr(\"src\");\n",
       "\t\t\tnative_width = image_object.width;\n",
       "\t\t\tnative_height = image_object.height;\n",
       "\t\t}\n",
       "\t\telse\n",
       "\t\t{\n",
       "\t\t\tvar magnify_offset = $(this).offset();\n",
       "\t\t\tvar mx = e.pageX - magnify_offset.left;\n",
       "\t\t\tvar my = e.pageY - magnify_offset.top;\n",
       "\t\t\t\n",
       "\t\t\tif(mx < $(this).width() && my < $(this).height() && mx > 0 && my > 0)\n",
       "\t\t\t{\n",
       "\t\t\t\t$(\".large\").fadeIn(100);\n",
       "\t\t\t}\n",
       "\t\t\telse\n",
       "\t\t\t{\n",
       "\t\t\t\t$(\".large\").fadeOut(100);\n",
       "\t\t\t}\n",
       "\t\t\tif($(\".large\").is(\":visible\"))\n",
       "\t\t\t{\n",
       "\n",
       "\t\t\t\tvar rx = Math.round(mx/$(\".small\").width()*native_width - $(\".large\").width()/2)*-1;\n",
       "\t\t\t\tvar ry = Math.round(my/$(\".small\").height()*native_height - $(\".large\").height()/2)*-1;\n",
       "\t\t\t\tvar bgp = rx + \"px \" + ry + \"px\";\n",
       "\t\t\t\t\n",
       "\t\t\t\tvar px = mx - $(\".large\").width()/2;\n",
       "\t\t\t\tvar py = my - $(\".large\").height()/2;\n",
       "\n",
       "\t\t\t\t$(\".large\").css({left: px, top: py, backgroundPosition: bgp});\n",
       "\t\t\t}\n",
       "\t\t}\n",
       "\t})\n",
       "})\n",
       "\n",
       "</script>\n",
       "\n",
       "<style>\n",
       "* {margin: 0; padding: 0;}\n",
       ".magnify {width: 400px; margin: 50px auto; position: relative; cursor: none}\n",
       "\n",
       ".large {\n",
       "\twidth: 200px; height: 200px;\n",
       "\tposition: absolute;\n",
       "\tborder-radius: 100%;\n",
       "\t\n",
       "\tbox-shadow: 0 0 0 7px rgba(255, 255, 255, 0.85), \n",
       "\t0 0 7px 7px rgba(0, 0, 0, 0.25), \n",
       "\tinset 0 0 40px 2px rgba(0, 0, 0, 0.25);\n",
       "\t\n",
       "\tdisplay: none;\n",
       "}\n",
       "\n",
       ".small { display: block; }\n",
       "</style>\n",
       "\n",
       "<div class=\"magnify\">\n",
       "\t\n",
       "\t<div class=\"large\"></div>\n",
       "\t\n",
       "\t<img class=\"small\" src=\"resources/img_dir/potato.jpeg\" width=\"200\"/>\n",
       "\t\n",
       "</div>"
      ],
      "text/plain": [
       "<IPython.core.display.HTML object>"
      ]
     },
     "execution_count": 13,
     "metadata": {},
     "output_type": "execute_result"
    }
   ],
   "source": [
    "from IPython.display import HTML\n",
    "HTML(\"resources/microscope.html\")"
   ]
  },
  {
   "cell_type": "code",
   "execution_count": 14,
   "metadata": {
    "slideshow": {
     "slide_type": "subslide"
    }
   },
   "outputs": [
    {
     "data": {
      "text/html": [
       "<iframe src=\"resources/gan_paper.pdf\" width=800 height=400></iframe>"
      ],
      "text/plain": [
       "<IPython.core.display.HTML object>"
      ]
     },
     "execution_count": 14,
     "metadata": {},
     "output_type": "execute_result"
    }
   ],
   "source": [
    "from IPython.display import HTML\n",
    "HTML('<iframe src=\"resources/gan_paper.pdf\" width=800 height=400></iframe>')"
   ]
  },
  {
   "cell_type": "code",
   "execution_count": 2,
   "metadata": {
    "slideshow": {
     "slide_type": "subslide"
    }
   },
   "outputs": [
    {
     "data": {
      "text/html": [
       "<iframe src=\"https://cartan.neptune.ml/#dashboard/job/3fb85ae9-5aa0-4ddf-80fe-12d98a505f97\" width=800 height=400></iframe>"
      ],
      "text/plain": [
       "<IPython.core.display.HTML object>"
      ]
     },
     "execution_count": 2,
     "metadata": {},
     "output_type": "execute_result"
    }
   ],
   "source": [
    "from IPython.display import HTML\n",
    "HTML('<iframe src=\"https://cartan.neptune.ml/#dashboard/job/3fb85ae9-5aa0-4ddf-80fe-12d98a505f97\" width=800 height=400></iframe>')"
   ]
  },
  {
   "cell_type": "markdown",
   "metadata": {
    "slideshow": {
     "slide_type": "slide"
    }
   },
   "source": [
    "## bokeh\n",
    "\n",
    "https://bokeh.pydata.org/en/latest/\n",
    "\n",
    "![query](resources/pics/bokeh.png)"
   ]
  },
  {
   "cell_type": "code",
   "execution_count": 1,
   "metadata": {
    "slideshow": {
     "slide_type": "subslide"
    }
   },
   "outputs": [
    {
     "data": {
      "text/html": [
       "\n",
       "    <div class=\"bk-root\">\n",
       "        <a href=\"https://bokeh.pydata.org\" target=\"_blank\" class=\"bk-logo bk-logo-small bk-logo-notebook\"></a>\n",
       "        <span id=\"a56d683a-0056-4974-8ab9-6ff3943d8ede\">Loading BokehJS ...</span>\n",
       "    </div>"
      ]
     },
     "metadata": {},
     "output_type": "display_data"
    },
    {
     "data": {
      "application/javascript": [
       "\n",
       "(function(root) {\n",
       "  function now() {\n",
       "    return new Date();\n",
       "  }\n",
       "\n",
       "  var force = true;\n",
       "\n",
       "  if (typeof (root._bokeh_onload_callbacks) === \"undefined\" || force === true) {\n",
       "    root._bokeh_onload_callbacks = [];\n",
       "    root._bokeh_is_loading = undefined;\n",
       "  }\n",
       "\n",
       "  var JS_MIME_TYPE = 'application/javascript';\n",
       "  var HTML_MIME_TYPE = 'text/html';\n",
       "  var EXEC_MIME_TYPE = 'application/vnd.bokehjs_exec.v0+json';\n",
       "  var CLASS_NAME = 'output_bokeh rendered_html';\n",
       "\n",
       "  /**\n",
       "   * Render data to the DOM node\n",
       "   */\n",
       "  function render(props, node) {\n",
       "    var script = document.createElement(\"script\");\n",
       "    node.appendChild(script);\n",
       "  }\n",
       "\n",
       "  /**\n",
       "   * Handle when an output is cleared or removed\n",
       "   */\n",
       "  function handleClearOutput(event, handle) {\n",
       "    var cell = handle.cell;\n",
       "\n",
       "    var id = cell.output_area._bokeh_element_id;\n",
       "    var server_id = cell.output_area._bokeh_server_id;\n",
       "    // Clean up Bokeh references\n",
       "    if (id !== undefined) {\n",
       "      Bokeh.index[id].model.document.clear();\n",
       "      delete Bokeh.index[id];\n",
       "    }\n",
       "\n",
       "    if (server_id !== undefined) {\n",
       "      // Clean up Bokeh references\n",
       "      var cmd = \"from bokeh.io import _state; print(_state.uuid_to_server['\" + server_id + \"'].get_sessions()[0].document.roots[0]._id)\";\n",
       "      cell.notebook.kernel.execute(cmd, {\n",
       "        iopub: {\n",
       "          output: function(msg) {\n",
       "            var element_id = msg.content.text.trim();\n",
       "            Bokeh.index[element_id].model.document.clear();\n",
       "            delete Bokeh.index[element_id];\n",
       "          }\n",
       "        }\n",
       "      });\n",
       "      // Destroy server and session\n",
       "      var cmd = \"from bokeh import io; io._destroy_server('\" + server_id + \"')\";\n",
       "      cell.notebook.kernel.execute(cmd);\n",
       "    }\n",
       "  }\n",
       "\n",
       "  /**\n",
       "   * Handle when a new output is added\n",
       "   */\n",
       "  function handleAddOutput(event, handle) {\n",
       "    var output_area = handle.output_area;\n",
       "    var output = handle.output;\n",
       "\n",
       "    // limit handleAddOutput to display_data with EXEC_MIME_TYPE content only\n",
       "    if ((output.output_type != \"display_data\") || (!output.data.hasOwnProperty(EXEC_MIME_TYPE))) {\n",
       "      return\n",
       "    }\n",
       "\n",
       "    var toinsert = output_area.element.find(`.${CLASS_NAME.split(' ')[0]}`);\n",
       "\n",
       "    if (output.metadata[EXEC_MIME_TYPE][\"id\"] !== undefined) {\n",
       "      toinsert[0].firstChild.textContent = output.data[JS_MIME_TYPE];\n",
       "      // store reference to embed id on output_area\n",
       "      output_area._bokeh_element_id = output.metadata[EXEC_MIME_TYPE][\"id\"];\n",
       "    }\n",
       "    if (output.metadata[EXEC_MIME_TYPE][\"server_id\"] !== undefined) {\n",
       "      var bk_div = document.createElement(\"div\");\n",
       "      bk_div.innerHTML = output.data[HTML_MIME_TYPE];\n",
       "      var script_attrs = bk_div.children[0].attributes;\n",
       "      for (var i = 0; i < script_attrs.length; i++) {\n",
       "        toinsert[0].firstChild.setAttribute(script_attrs[i].name, script_attrs[i].value);\n",
       "      }\n",
       "      // store reference to server id on output_area\n",
       "      output_area._bokeh_server_id = output.metadata[EXEC_MIME_TYPE][\"server_id\"];\n",
       "    }\n",
       "  }\n",
       "\n",
       "  function register_renderer(events, OutputArea) {\n",
       "\n",
       "    function append_mime(data, metadata, element) {\n",
       "      // create a DOM node to render to\n",
       "      var toinsert = this.create_output_subarea(\n",
       "        metadata,\n",
       "        CLASS_NAME,\n",
       "        EXEC_MIME_TYPE\n",
       "      );\n",
       "      this.keyboard_manager.register_events(toinsert);\n",
       "      // Render to node\n",
       "      var props = {data: data, metadata: metadata[EXEC_MIME_TYPE]};\n",
       "      render(props, toinsert[0]);\n",
       "      element.append(toinsert);\n",
       "      return toinsert\n",
       "    }\n",
       "\n",
       "    /* Handle when an output is cleared or removed */\n",
       "    events.on('clear_output.CodeCell', handleClearOutput);\n",
       "    events.on('delete.Cell', handleClearOutput);\n",
       "\n",
       "    /* Handle when a new output is added */\n",
       "    events.on('output_added.OutputArea', handleAddOutput);\n",
       "\n",
       "    /**\n",
       "     * Register the mime type and append_mime function with output_area\n",
       "     */\n",
       "    OutputArea.prototype.register_mime_type(EXEC_MIME_TYPE, append_mime, {\n",
       "      /* Is output safe? */\n",
       "      safe: true,\n",
       "      /* Index of renderer in `output_area.display_order` */\n",
       "      index: 0\n",
       "    });\n",
       "  }\n",
       "\n",
       "  // register the mime type if in Jupyter Notebook environment and previously unregistered\n",
       "  if (root.Jupyter !== undefined) {\n",
       "    var events = require('base/js/events');\n",
       "    var OutputArea = require('notebook/js/outputarea').OutputArea;\n",
       "\n",
       "    if (OutputArea.prototype.mime_types().indexOf(EXEC_MIME_TYPE) == -1) {\n",
       "      register_renderer(events, OutputArea);\n",
       "    }\n",
       "  }\n",
       "\n",
       "  \n",
       "  if (typeof (root._bokeh_timeout) === \"undefined\" || force === true) {\n",
       "    root._bokeh_timeout = Date.now() + 5000;\n",
       "    root._bokeh_failed_load = false;\n",
       "  }\n",
       "\n",
       "  var NB_LOAD_WARNING = {'data': {'text/html':\n",
       "     \"<div style='background-color: #fdd'>\\n\"+\n",
       "     \"<p>\\n\"+\n",
       "     \"BokehJS does not appear to have successfully loaded. If loading BokehJS from CDN, this \\n\"+\n",
       "     \"may be due to a slow or bad network connection. Possible fixes:\\n\"+\n",
       "     \"</p>\\n\"+\n",
       "     \"<ul>\\n\"+\n",
       "     \"<li>re-rerun `output_notebook()` to attempt to load from CDN again, or</li>\\n\"+\n",
       "     \"<li>use INLINE resources instead, as so:</li>\\n\"+\n",
       "     \"</ul>\\n\"+\n",
       "     \"<code>\\n\"+\n",
       "     \"from bokeh.resources import INLINE\\n\"+\n",
       "     \"output_notebook(resources=INLINE)\\n\"+\n",
       "     \"</code>\\n\"+\n",
       "     \"</div>\"}};\n",
       "\n",
       "  function display_loaded() {\n",
       "    var el = document.getElementById(\"a56d683a-0056-4974-8ab9-6ff3943d8ede\");\n",
       "    if (el != null) {\n",
       "      el.textContent = \"BokehJS is loading...\";\n",
       "    }\n",
       "    if (root.Bokeh !== undefined) {\n",
       "      if (el != null) {\n",
       "        el.textContent = \"BokehJS \" + root.Bokeh.version + \" successfully loaded.\";\n",
       "      }\n",
       "    } else if (Date.now() < root._bokeh_timeout) {\n",
       "      setTimeout(display_loaded, 100)\n",
       "    }\n",
       "  }\n",
       "\n",
       "\n",
       "  function run_callbacks() {\n",
       "    try {\n",
       "      root._bokeh_onload_callbacks.forEach(function(callback) { callback() });\n",
       "    }\n",
       "    finally {\n",
       "      delete root._bokeh_onload_callbacks\n",
       "    }\n",
       "    console.info(\"Bokeh: all callbacks have finished\");\n",
       "  }\n",
       "\n",
       "  function load_libs(js_urls, callback) {\n",
       "    root._bokeh_onload_callbacks.push(callback);\n",
       "    if (root._bokeh_is_loading > 0) {\n",
       "      console.log(\"Bokeh: BokehJS is being loaded, scheduling callback at\", now());\n",
       "      return null;\n",
       "    }\n",
       "    if (js_urls == null || js_urls.length === 0) {\n",
       "      run_callbacks();\n",
       "      return null;\n",
       "    }\n",
       "    console.log(\"Bokeh: BokehJS not loaded, scheduling load and callback at\", now());\n",
       "    root._bokeh_is_loading = js_urls.length;\n",
       "    for (var i = 0; i < js_urls.length; i++) {\n",
       "      var url = js_urls[i];\n",
       "      var s = document.createElement('script');\n",
       "      s.src = url;\n",
       "      s.async = false;\n",
       "      s.onreadystatechange = s.onload = function() {\n",
       "        root._bokeh_is_loading--;\n",
       "        if (root._bokeh_is_loading === 0) {\n",
       "          console.log(\"Bokeh: all BokehJS libraries loaded\");\n",
       "          run_callbacks()\n",
       "        }\n",
       "      };\n",
       "      s.onerror = function() {\n",
       "        console.warn(\"failed to load library \" + url);\n",
       "      };\n",
       "      console.log(\"Bokeh: injecting script tag for BokehJS library: \", url);\n",
       "      document.getElementsByTagName(\"head\")[0].appendChild(s);\n",
       "    }\n",
       "  };var element = document.getElementById(\"a56d683a-0056-4974-8ab9-6ff3943d8ede\");\n",
       "  if (element == null) {\n",
       "    console.log(\"Bokeh: ERROR: autoload.js configured with elementid 'a56d683a-0056-4974-8ab9-6ff3943d8ede' but no matching script tag was found. \")\n",
       "    return false;\n",
       "  }\n",
       "\n",
       "  var js_urls = [\"https://cdn.pydata.org/bokeh/release/bokeh-0.12.9.min.js\", \"https://cdn.pydata.org/bokeh/release/bokeh-widgets-0.12.9.min.js\", \"https://cdn.pydata.org/bokeh/release/bokeh-tables-0.12.9.min.js\", \"https://cdn.pydata.org/bokeh/release/bokeh-gl-0.12.9.min.js\"];\n",
       "\n",
       "  var inline_js = [\n",
       "    function(Bokeh) {\n",
       "      Bokeh.set_log_level(\"info\");\n",
       "    },\n",
       "    \n",
       "    function(Bokeh) {\n",
       "      \n",
       "    },\n",
       "    function(Bokeh) {\n",
       "      console.log(\"Bokeh: injecting CSS: https://cdn.pydata.org/bokeh/release/bokeh-0.12.9.min.css\");\n",
       "      Bokeh.embed.inject_css(\"https://cdn.pydata.org/bokeh/release/bokeh-0.12.9.min.css\");\n",
       "      console.log(\"Bokeh: injecting CSS: https://cdn.pydata.org/bokeh/release/bokeh-widgets-0.12.9.min.css\");\n",
       "      Bokeh.embed.inject_css(\"https://cdn.pydata.org/bokeh/release/bokeh-widgets-0.12.9.min.css\");\n",
       "      console.log(\"Bokeh: injecting CSS: https://cdn.pydata.org/bokeh/release/bokeh-tables-0.12.9.min.css\");\n",
       "      Bokeh.embed.inject_css(\"https://cdn.pydata.org/bokeh/release/bokeh-tables-0.12.9.min.css\");\n",
       "    }\n",
       "  ];\n",
       "\n",
       "  function run_inline_js() {\n",
       "    \n",
       "    if ((root.Bokeh !== undefined) || (force === true)) {\n",
       "      for (var i = 0; i < inline_js.length; i++) {\n",
       "        inline_js[i].call(root, root.Bokeh);\n",
       "      }if (force === true) {\n",
       "        display_loaded();\n",
       "      }} else if (Date.now() < root._bokeh_timeout) {\n",
       "      setTimeout(run_inline_js, 100);\n",
       "    } else if (!root._bokeh_failed_load) {\n",
       "      console.log(\"Bokeh: BokehJS failed to load within specified timeout.\");\n",
       "      root._bokeh_failed_load = true;\n",
       "    } else if (force !== true) {\n",
       "      var cell = $(document.getElementById(\"a56d683a-0056-4974-8ab9-6ff3943d8ede\")).parents('.cell').data().cell;\n",
       "      cell.output_area.append_execute_result(NB_LOAD_WARNING)\n",
       "    }\n",
       "\n",
       "  }\n",
       "\n",
       "  if (root._bokeh_is_loading === 0) {\n",
       "    console.log(\"Bokeh: BokehJS loaded, going straight to plotting\");\n",
       "    run_inline_js();\n",
       "  } else {\n",
       "    load_libs(js_urls, function() {\n",
       "      console.log(\"Bokeh: BokehJS plotting callback run at\", now());\n",
       "      run_inline_js();\n",
       "    });\n",
       "  }\n",
       "}(window));"
      ],
      "application/vnd.bokehjs_load.v0+json": "\n(function(root) {\n  function now() {\n    return new Date();\n  }\n\n  var force = true;\n\n  if (typeof (root._bokeh_onload_callbacks) === \"undefined\" || force === true) {\n    root._bokeh_onload_callbacks = [];\n    root._bokeh_is_loading = undefined;\n  }\n\n  \n\n  \n  if (typeof (root._bokeh_timeout) === \"undefined\" || force === true) {\n    root._bokeh_timeout = Date.now() + 5000;\n    root._bokeh_failed_load = false;\n  }\n\n  var NB_LOAD_WARNING = {'data': {'text/html':\n     \"<div style='background-color: #fdd'>\\n\"+\n     \"<p>\\n\"+\n     \"BokehJS does not appear to have successfully loaded. If loading BokehJS from CDN, this \\n\"+\n     \"may be due to a slow or bad network connection. Possible fixes:\\n\"+\n     \"</p>\\n\"+\n     \"<ul>\\n\"+\n     \"<li>re-rerun `output_notebook()` to attempt to load from CDN again, or</li>\\n\"+\n     \"<li>use INLINE resources instead, as so:</li>\\n\"+\n     \"</ul>\\n\"+\n     \"<code>\\n\"+\n     \"from bokeh.resources import INLINE\\n\"+\n     \"output_notebook(resources=INLINE)\\n\"+\n     \"</code>\\n\"+\n     \"</div>\"}};\n\n  function display_loaded() {\n    var el = document.getElementById(\"a56d683a-0056-4974-8ab9-6ff3943d8ede\");\n    if (el != null) {\n      el.textContent = \"BokehJS is loading...\";\n    }\n    if (root.Bokeh !== undefined) {\n      if (el != null) {\n        el.textContent = \"BokehJS \" + root.Bokeh.version + \" successfully loaded.\";\n      }\n    } else if (Date.now() < root._bokeh_timeout) {\n      setTimeout(display_loaded, 100)\n    }\n  }\n\n\n  function run_callbacks() {\n    try {\n      root._bokeh_onload_callbacks.forEach(function(callback) { callback() });\n    }\n    finally {\n      delete root._bokeh_onload_callbacks\n    }\n    console.info(\"Bokeh: all callbacks have finished\");\n  }\n\n  function load_libs(js_urls, callback) {\n    root._bokeh_onload_callbacks.push(callback);\n    if (root._bokeh_is_loading > 0) {\n      console.log(\"Bokeh: BokehJS is being loaded, scheduling callback at\", now());\n      return null;\n    }\n    if (js_urls == null || js_urls.length === 0) {\n      run_callbacks();\n      return null;\n    }\n    console.log(\"Bokeh: BokehJS not loaded, scheduling load and callback at\", now());\n    root._bokeh_is_loading = js_urls.length;\n    for (var i = 0; i < js_urls.length; i++) {\n      var url = js_urls[i];\n      var s = document.createElement('script');\n      s.src = url;\n      s.async = false;\n      s.onreadystatechange = s.onload = function() {\n        root._bokeh_is_loading--;\n        if (root._bokeh_is_loading === 0) {\n          console.log(\"Bokeh: all BokehJS libraries loaded\");\n          run_callbacks()\n        }\n      };\n      s.onerror = function() {\n        console.warn(\"failed to load library \" + url);\n      };\n      console.log(\"Bokeh: injecting script tag for BokehJS library: \", url);\n      document.getElementsByTagName(\"head\")[0].appendChild(s);\n    }\n  };var element = document.getElementById(\"a56d683a-0056-4974-8ab9-6ff3943d8ede\");\n  if (element == null) {\n    console.log(\"Bokeh: ERROR: autoload.js configured with elementid 'a56d683a-0056-4974-8ab9-6ff3943d8ede' but no matching script tag was found. \")\n    return false;\n  }\n\n  var js_urls = [\"https://cdn.pydata.org/bokeh/release/bokeh-0.12.9.min.js\", \"https://cdn.pydata.org/bokeh/release/bokeh-widgets-0.12.9.min.js\", \"https://cdn.pydata.org/bokeh/release/bokeh-tables-0.12.9.min.js\", \"https://cdn.pydata.org/bokeh/release/bokeh-gl-0.12.9.min.js\"];\n\n  var inline_js = [\n    function(Bokeh) {\n      Bokeh.set_log_level(\"info\");\n    },\n    \n    function(Bokeh) {\n      \n    },\n    function(Bokeh) {\n      console.log(\"Bokeh: injecting CSS: https://cdn.pydata.org/bokeh/release/bokeh-0.12.9.min.css\");\n      Bokeh.embed.inject_css(\"https://cdn.pydata.org/bokeh/release/bokeh-0.12.9.min.css\");\n      console.log(\"Bokeh: injecting CSS: https://cdn.pydata.org/bokeh/release/bokeh-widgets-0.12.9.min.css\");\n      Bokeh.embed.inject_css(\"https://cdn.pydata.org/bokeh/release/bokeh-widgets-0.12.9.min.css\");\n      console.log(\"Bokeh: injecting CSS: https://cdn.pydata.org/bokeh/release/bokeh-tables-0.12.9.min.css\");\n      Bokeh.embed.inject_css(\"https://cdn.pydata.org/bokeh/release/bokeh-tables-0.12.9.min.css\");\n    }\n  ];\n\n  function run_inline_js() {\n    \n    if ((root.Bokeh !== undefined) || (force === true)) {\n      for (var i = 0; i < inline_js.length; i++) {\n        inline_js[i].call(root, root.Bokeh);\n      }if (force === true) {\n        display_loaded();\n      }} else if (Date.now() < root._bokeh_timeout) {\n      setTimeout(run_inline_js, 100);\n    } else if (!root._bokeh_failed_load) {\n      console.log(\"Bokeh: BokehJS failed to load within specified timeout.\");\n      root._bokeh_failed_load = true;\n    } else if (force !== true) {\n      var cell = $(document.getElementById(\"a56d683a-0056-4974-8ab9-6ff3943d8ede\")).parents('.cell').data().cell;\n      cell.output_area.append_execute_result(NB_LOAD_WARNING)\n    }\n\n  }\n\n  if (root._bokeh_is_loading === 0) {\n    console.log(\"Bokeh: BokehJS loaded, going straight to plotting\");\n    run_inline_js();\n  } else {\n    load_libs(js_urls, function() {\n      console.log(\"Bokeh: BokehJS plotting callback run at\", now());\n      run_inline_js();\n    });\n  }\n}(window));"
     },
     "metadata": {},
     "output_type": "display_data"
    },
    {
     "data": {
      "text/html": [
       "\n",
       "<div class=\"bk-root\">\n",
       "    <div class=\"bk-plotdiv\" id=\"b73bdcc9-0f19-4d65-893a-93fe6d9ecd33\"></div>\n",
       "</div>"
      ]
     },
     "metadata": {},
     "output_type": "display_data"
    },
    {
     "data": {
      "application/javascript": [
       "(function(root) {\n",
       "  function embed_document(root) {\n",
       "    var docs_json = {\"3b1c115c-3c94-4424-b67d-f0fdb2cbc3fa\":{\"roots\":{\"references\":[{\"attributes\":{\"range\":{\"id\":\"a406f10e-d4ed-4c87-9617-65ea1b8cf7f6\",\"type\":\"FactorRange\"},\"value\":-0.35},\"id\":\"e0f7801e-9e2c-4856-acd0-4b45a8ce05d7\",\"type\":\"Dodge\"},{\"attributes\":{\"text\":{\"field\":\"symbol\"},\"text_baseline\":\"middle\",\"text_color\":{\"value\":\"black\"},\"text_font_style\":\"bold\",\"x\":{\"field\":\"group\",\"transform\":{\"id\":\"a59bc762-aaf2-48e0-8b19-68f5fcf89df4\",\"type\":\"Dodge\"}},\"y\":{\"field\":\"period\"}},\"id\":\"3aa4803c-ac7e-42aa-8704-94bd49bb3291\",\"type\":\"Text\"},{\"attributes\":{\"source\":{\"id\":\"85843e8c-fc9b-4992-aa74-f767456dbcac\",\"type\":\"ColumnDataSource\"}},\"id\":\"4439c235-eb60-4ae2-8101-3269ece31ddd\",\"type\":\"CDSView\"},{\"attributes\":{\"below\":[{\"id\":\"a87323a5-9bf1-4a7e-b61d-290ef3a9212b\",\"type\":\"CategoricalAxis\"}],\"left\":[{\"id\":\"2b4ff1ab-8535-4e11-8741-6986b298dda1\",\"type\":\"CategoricalAxis\"}],\"outline_line_color\":{\"value\":null},\"plot_height\":300,\"renderers\":[{\"id\":\"a87323a5-9bf1-4a7e-b61d-290ef3a9212b\",\"type\":\"CategoricalAxis\"},{\"id\":\"a60af16a-68a8-450e-9de3-db284c2362fa\",\"type\":\"Grid\"},{\"id\":\"2b4ff1ab-8535-4e11-8741-6986b298dda1\",\"type\":\"CategoricalAxis\"},{\"id\":\"d248379c-1c56-49af-8f47-917f21ef2308\",\"type\":\"Grid\"},{\"id\":\"f3d80ce8-ac4e-4d8c-891d-99c89ee89aa7\",\"type\":\"Legend\"},{\"id\":\"129bdf98-ea4f-4114-9870-3af0d70f5dc4\",\"type\":\"GlyphRenderer\"},{\"id\":\"90b9b4b9-d33c-48f6-acd0-0c1d372121f7\",\"type\":\"GlyphRenderer\"},{\"id\":\"2e147854-ba28-4a9a-97b9-644060b6a97f\",\"type\":\"GlyphRenderer\"},{\"id\":\"c4c72d31-4780-478c-8e4c-495b1c7f1bd0\",\"type\":\"GlyphRenderer\"},{\"id\":\"ddc78c12-8317-4bdf-b3fb-4928c0d1ba6f\",\"type\":\"GlyphRenderer\"},{\"id\":\"571f4508-3b39-439e-8558-3e398578ff87\",\"type\":\"GlyphRenderer\"}],\"title\":{\"id\":\"fa5a9713-56c4-4f26-b3fe-7b61ec00f687\",\"type\":\"Title\"},\"toolbar\":{\"id\":\"da62e64f-f03f-4d26-80d8-a01536b3a260\",\"type\":\"Toolbar\"},\"toolbar_location\":null,\"x_range\":{\"id\":\"ac92286d-c113-48f9-b245-abc23ec953b6\",\"type\":\"FactorRange\"},\"x_scale\":{\"id\":\"ac377f04-5a91-4d34-bf9f-1bcdeef6cd32\",\"type\":\"CategoricalScale\"},\"y_range\":{\"id\":\"a406f10e-d4ed-4c87-9617-65ea1b8cf7f6\",\"type\":\"FactorRange\"},\"y_scale\":{\"id\":\"26f82af8-311c-4ea8-a0b6-37fe54d42aed\",\"type\":\"CategoricalScale\"}},\"id\":\"666522a4-3c98-474a-85a1-4c1ad8429638\",\"subtype\":\"Figure\",\"type\":\"Plot\"},{\"attributes\":{\"plot\":null,\"text\":\"Periodic Table (omitting LA and AC Series)\"},\"id\":\"fa5a9713-56c4-4f26-b3fe-7b61ec00f687\",\"type\":\"Title\"},{\"attributes\":{\"axis_line_color\":{\"value\":null},\"formatter\":{\"id\":\"9a6ebe2e-289e-4334-b669-ba7500e15cf5\",\"type\":\"CategoricalTickFormatter\"},\"major_label_standoff\":0,\"major_tick_line_color\":{\"value\":null},\"plot\":{\"id\":\"666522a4-3c98-474a-85a1-4c1ad8429638\",\"subtype\":\"Figure\",\"type\":\"Plot\"},\"ticker\":{\"id\":\"39baa638-f0e6-4156-8dfb-535cf31d7e46\",\"type\":\"CategoricalTicker\"}},\"id\":\"a87323a5-9bf1-4a7e-b61d-290ef3a9212b\",\"type\":\"CategoricalAxis\"},{\"attributes\":{\"axis_line_color\":{\"value\":null},\"formatter\":{\"id\":\"7b6ba8e5-f7db-4bea-8b22-f13930f885f2\",\"type\":\"CategoricalTickFormatter\"},\"major_label_standoff\":0,\"major_tick_line_color\":{\"value\":null},\"plot\":{\"id\":\"666522a4-3c98-474a-85a1-4c1ad8429638\",\"subtype\":\"Figure\",\"type\":\"Plot\"},\"ticker\":{\"id\":\"ddbafc8e-0ce0-4d9e-92ce-9200498210ce\",\"type\":\"CategoricalTicker\"}},\"id\":\"2b4ff1ab-8535-4e11-8741-6986b298dda1\",\"type\":\"CategoricalAxis\"},{\"attributes\":{\"dimension\":1,\"grid_line_color\":{\"value\":null},\"plot\":{\"id\":\"666522a4-3c98-474a-85a1-4c1ad8429638\",\"subtype\":\"Figure\",\"type\":\"Plot\"},\"ticker\":{\"id\":\"ddbafc8e-0ce0-4d9e-92ce-9200498210ce\",\"type\":\"CategoricalTicker\"}},\"id\":\"d248379c-1c56-49af-8f47-917f21ef2308\",\"type\":\"Grid\"},{\"attributes\":{},\"id\":\"ddbafc8e-0ce0-4d9e-92ce-9200498210ce\",\"type\":\"CategoricalTicker\"},{\"attributes\":{\"factors\":[\"transition metal\",\"alkali metal\",\"nonmetal\",\"noble gas\",\"alkaline earth metal\",\"metal\",\"metalloid\",\"halogen\"],\"palette\":[\"#599d7A\",\"#a6cee3\",\"#f1d4Af\",\"#eaeaea\",\"#1f78b4\",\"#d93b43\",\"#e08d49\",\"#999d9a\"]},\"id\":\"9288c045-4a6b-45ce-9abf-82ea78583d84\",\"type\":\"CategoricalColorMapper\"},{\"attributes\":{\"text\":{\"field\":\"name\"},\"text_alpha\":{\"value\":0.1},\"text_baseline\":\"middle\",\"text_color\":{\"value\":\"black\"},\"x\":{\"field\":\"group\",\"transform\":{\"id\":\"a59bc762-aaf2-48e0-8b19-68f5fcf89df4\",\"type\":\"Dodge\"}},\"y\":{\"field\":\"period\",\"transform\":{\"id\":\"e0f7801e-9e2c-4856-acd0-4b45a8ce05d7\",\"type\":\"Dodge\"}}},\"id\":\"6bde6378-7481-49a5-a3db-a67a69ac1fa7\",\"type\":\"Text\"},{\"attributes\":{\"data_source\":{\"id\":\"fb83a8e3-4584-4be9-b9a3-2e55a0c454ef\",\"type\":\"ColumnDataSource\"},\"glyph\":{\"id\":\"06c4c794-ae1d-47f9-bdca-b35b29c0212f\",\"type\":\"Text\"},\"hover_glyph\":null,\"muted_glyph\":null,\"nonselection_glyph\":{\"id\":\"6bde6378-7481-49a5-a3db-a67a69ac1fa7\",\"type\":\"Text\"},\"selection_glyph\":null,\"view\":{\"id\":\"8b42aeb7-7e1b-468d-9d15-6305b408c24b\",\"type\":\"CDSView\"}},\"id\":\"c4c72d31-4780-478c-8e4c-495b1c7f1bd0\",\"type\":\"GlyphRenderer\"},{\"attributes\":{\"source\":{\"id\":\"fb83a8e3-4584-4be9-b9a3-2e55a0c454ef\",\"type\":\"ColumnDataSource\"}},\"id\":\"538dcc80-aa0e-4a25-880d-2ce084534e6a\",\"type\":\"CDSView\"},{\"attributes\":{\"source\":{\"id\":\"fb83a8e3-4584-4be9-b9a3-2e55a0c454ef\",\"type\":\"ColumnDataSource\"}},\"id\":\"65bb5421-1e74-41c4-8ca0-dcf7f98adfff\",\"type\":\"CDSView\"},{\"attributes\":{\"active_drag\":\"auto\",\"active_inspect\":\"auto\",\"active_scroll\":\"auto\",\"active_tap\":\"auto\",\"tools\":[{\"id\":\"5d5d27cc-f89a-4166-93fc-44c4a3c5da0b\",\"type\":\"HoverTool\"}]},\"id\":\"da62e64f-f03f-4d26-80d8-a01536b3a260\",\"type\":\"Toolbar\"},{\"attributes\":{\"range\":{\"id\":\"a406f10e-d4ed-4c87-9617-65ea1b8cf7f6\",\"type\":\"FactorRange\"},\"value\":-0.2},\"id\":\"921bb46d-de31-494d-8412-fb94a5f5ad21\",\"type\":\"Dodge\"},{\"attributes\":{\"callback\":null,\"column_names\":[\"ion radius\",\"melting point\",\"year discovered\",\"atomic radius\",\"electronic configuration\",\"electronegativity\",\"standard state\",\"symbol\",\"index\",\"bonding type\",\"group\",\"van der Waals radius\",\"density\",\"period\",\"atomic mass\",\"atomic number\",\"IE-1\",\"EA\",\"name\",\"CPK\",\"metal\",\"boiling point\"],\"data\":{\"CPK\":[\"#FFFFFF\",\"#D9FFFF\",\"#CC80FF\",\"#C2FF00\",\"#FFB5B5\",\"#909090\",\"#3050F8\",\"#FF0D0D\",\"#90E050\",\"#B3E3F5\",\"#AB5CF2\",\"#8AFF00\",\"#BFA6A6\",\"#F0C8A0\",\"#FF8000\",\"#FFFF30\",\"#1FF01F\",\"#80D1E3\",\"#8F40D4\",\"#3DFF00\",\"#E6E6E6\",\"#BFC2C7\",\"#A6A6AB\",\"#8A99C7\",\"#9C7AC7\",\"#E06633\",\"#F090A0\",\"#50D050\",\"#C88033\",\"#7D80B0\",\"#C28F8F\",\"#668F8F\",\"#BD80E3\",\"#FFA100\",\"#A62929\",\"#5CB8D1\",\"#702EB0\",\"#00FF00\",\"#94FFFF\",\"#94E0E0\",\"#73C2C9\",\"#54B5B5\",\"#3B9E9E\",\"#248F8F\",\"#0A7D8C\",\"#006985\",\"#C0C0C0\",\"#FFD98F\",\"#A67573\",\"#668080\",\"#9E63B5\",\"#D47A00\",\"#940094\",\"#429EB0\",\"#57178F\",\"#00C900\",\"#4DC2FF\",\"#4DA6FF\",\"#2194D6\",\"#267DAB\",\"#266696\",\"#175487\",\"#D0D0E0\",\"#FFD123\",\"#B8B8D0\",\"#A6544D\",\"#575961\",\"#9E4FB5\",\"#AB5C00\",\"#754F45\",\"#428296\",\"#420066\",\"#007D00\",\"#CC0059\",\"#D1004F\",\"#D90045\",\"#E00038\",\"#E6002E\",\"#EB0026\",\"#FF1493\",\"#FF1493\",\"#FF1493\",\"#FF1493\",\"#FF1493\",\"#FF1493\",\"#FF1493\",\"#FF1493\",\"#FF1493\"],\"EA\":{\"__ndarray__\":\"AAAAAABAUsAAAAAAAAAAAAAAAAAAAE7AAAAAAAAAAAAAAAAAAAA7wAAAAAAAQGPAAAAAAAAAHMAAAAAAAKBhwAAAAAAAgHTAAAAAAAAAAAAAAAAAAIBKwAAAAAAAAAAAAAAAAACARcAAAAAAAMBgwAAAAAAAAFLAAAAAAAAAacAAAAAAANB1wAAAAAAAAAAAAAAAAAAASMAAAAAAAAAAwAAAAAAAADLAAAAAAAAAIMAAAAAAAIBJwAAAAAAAAFDAAAAAAAAAAAAAAAAAAAAwwAAAAAAAAFDAAAAAAAAAXMAAAAAAAIBdwAAAAAAAAAAAAAAAAAAAPcAAAAAAAMBdwAAAAAAAgFPAAAAAAABgaMAAAAAAAFB0wAAAAAAAAAAAAAAAAACAR8AAAAAAAAAUwAAAAAAAAD7AAAAAAACARMAAAAAAAIBVwAAAAAAAAFLAAAAAAACASsAAAAAAAEBZwAAAAAAAgFvAAAAAAAAAS8AAAAAAAIBfwAAAAAAAAAAAAAAAAAAAPcAAAAAAAMBawAAAAAAAwFnAAAAAAADAZ8AAAAAAAHBywAAAAAAAAAAAAAAAAAAAR8AAAAAAAAAswAAAAAAAAAAAAAAAAAAAP8AAAAAAAMBTwAAAAAAAAC7AAAAAAACAWsAAAAAAAOBiwAAAAAAAoGnAAAAAAADga8AAAAAAAAAAAAAAAAAAADPAAAAAAACAQcAAAAAAAMBWwAAAAAAA4GbAAAAAAADgcMAAAAAAAAD4fwAAAAAAAPh/AAAAAAAA+H8AAAAAAAD4fwAAAAAAAPh/AAAAAAAA+H8AAAAAAAD4fwAAAAAAAPh/AAAAAAAA+H8AAAAAAAD4fwAAAAAAAPh/AAAAAAAA+H8AAAAAAAD4fwAAAAAAAPh/AAAAAAAA+H8AAAAAAAD4fwAAAAAAAPh/AAAAAAAA+H8=\",\"dtype\":\"float64\",\"shape\":[88]},\"IE-1\":{\"__ndarray__\":\"AAAAAACAlEAAAAAAAIiiQAAAAAAAQIBAAAAAAAAgjEAAAAAAAAiJQAAAAAAA/JBAAAAAAADolUAAAAAAAIiUQAAAAAAARJpAAAAAAABCoEAAAAAAAAB/QAAAAAAAEIdAAAAAAAAQgkAAAAAAAJiIQAAAAAAAoI9AAAAAAABAj0AAAAAAAIyTQAAAAAAAxJdAAAAAAAAwekAAAAAAAHCCQAAAAAAAyINAAAAAAACYhEAAAAAAAFiEQAAAAAAAaIRAAAAAAABohkAAAAAAANiHQAAAAAAAwIdAAAAAAAAIh0AAAAAAAFCHQAAAAAAAUIxAAAAAAAAYgkAAAAAAANCHQAAAAAAAmI1AAAAAAABojUAAAAAAANCRQAAAAAAAHJVAAAAAAAAweUAAAAAAADCBQAAAAAAAwIJAAAAAAAAAhEAAAAAAAGCEQAAAAAAAYIVAAAAAAADwhUAAAAAAADCGQAAAAAAAgIZAAAAAAAAgiUAAAAAAANiGQAAAAAAAIItAAAAAAABwgUAAAAAAACiGQAAAAAAAEIpAAAAAAAAoi0AAAAAAAICPQAAAAAAASJJAAAAAAACAd0AAAAAAAHB/QAAAAAAAmIRAAAAAAADIh0AAAAAAABCIQAAAAAAAwIdAAAAAAABAikAAAAAAAICLQAAAAAAAMItAAAAAAADQi0AAAAAAAHiPQAAAAAAAaIJAAAAAAABghkAAAAAAAPiFQAAAAAAAYIlAAAAAAADAjEAAAAAAADSQQAAAAAAAwHdAAAAAAADQf0AAAAAAAAD4fwAAAAAAAPh/AAAAAAAA+H8AAAAAAAD4fwAAAAAAAPh/AAAAAAAA+H8AAAAAAAD4fwAAAAAAAPh/AAAAAAAA+H8AAAAAAAD4fwAAAAAAAPh/AAAAAAAA+H8AAAAAAAD4fwAAAAAAAPh/AAAAAAAA+H8=\",\"dtype\":\"float64\",\"shape\":[88]},\"atomic mass\":[\"1.00794\",\"4.002602\",\"6.941\",\"9.012182\",\"10.811\",\"12.0107\",\"14.0067\",\"15.9994\",\"18.9984032\",\"20.1797\",\"22.98976928\",\"24.3050\",\"26.9815386\",\"28.0855\",\"30.973762\",\"32.065\",\"35.453\",\"39.948\",\"39.0983\",\"40.078\",\"44.955912\",\"47.867\",\"50.9415\",\"51.9961\",\"54.938045\",\"55.845\",\"58.933195\",\"58.6934\",\"63.546\",\"65.38\",\"69.723\",\"72.64\",\"74.92160\",\"78.96\",\"79.904\",\"83.798\",\"85.4678\",\"87.62\",\"88.90585\",\"91.224\",\"92.90638\",\"95.96\",\"[98]\",\"101.07\",\"102.90550\",\"106.42\",\"107.8682\",\"112.411\",\"114.818\",\"118.710\",\"121.760\",\"127.60\",\"126.90447\",\"131.293\",\"132.9054519\",\"137.327\",\"178.49\",\"180.94788\",\"183.84\",\"186.207\",\"190.23\",\"192.217\",\"195.084\",\"196.966569\",\"200.59\",\"204.3833\",\"207.2\",\"208.98040\",\"[209]\",\"[210]\",\"[222]\",\"[223]\",\"[226]\",\"[267]\",\"[268]\",\"[271]\",\"[272]\",\"[270]\",\"[276]\",\"[281]\",\"[280]\",\"[285]\",\"[284]\",\"[289]\",\"[288]\",\"[293]\",\"[294]\",\"[294]\"],\"atomic number\":[1,2,3,4,5,6,7,8,9,10,11,12,13,14,15,16,17,18,19,20,21,22,23,24,25,26,27,28,29,30,31,32,33,34,35,36,37,38,39,40,41,42,43,44,45,46,47,48,49,50,51,52,53,54,55,56,72,73,74,75,76,77,78,79,80,81,82,83,84,85,86,87,88,104,105,106,107,108,109,110,111,112,113,114,115,116,117,118],\"atomic radius\":{\"__ndarray__\":\"AAAAAACAQkAAAAAAAABAQAAAAAAAwGBAAAAAAACAVkAAAAAAAIBUQAAAAAAAQFNAAAAAAADAUkAAAAAAAEBSQAAAAAAAwFFAAAAAAABAUUAAAAAAAEBjQAAAAAAAQGBAAAAAAACAXUAAAAAAAMBbQAAAAAAAgFpAAAAAAACAWUAAAAAAAMBYQAAAAAAAQFhAAAAAAACAaEAAAAAAAMBlQAAAAAAAAGJAAAAAAAAAYUAAAAAAAEBfQAAAAAAAwF9AAAAAAABgYUAAAAAAAEBfQAAAAAAAgF9AAAAAAABAXkAAAAAAAEBhQAAAAAAAYGBAAAAAAACAX0AAAAAAAIBeQAAAAAAAwF1AAAAAAAAAXUAAAAAAAIBcQAAAAAAAgFtAAAAAAABgakAAAAAAAABoQAAAAAAAQGRAAAAAAACAYkAAAAAAACBhQAAAAAAAIGJAAAAAAACAY0AAAAAAAIBfQAAAAAAA4GBAAAAAAABgYEAAAAAAACBjQAAAAAAAgGJAAAAAAAAAYkAAAAAAAKBhQAAAAAAAQGFAAAAAAADgYEAAAAAAAKBgQAAAAAAAQGBAAAAAAAAgbEAAAAAAAMBoQAAAAAAAwGJAAAAAAABAYUAAAAAAAEBiQAAAAAAA4GNAAAAAAAAAYEAAAAAAACBhQAAAAAAAAGBAAAAAAAAAYkAAAAAAAKBiQAAAAAAAgGJAAAAAAABgYkAAAAAAAEBiQAAAAAAAAPh/AAAAAAAA+H8AAAAAACBiQAAAAAAAAPh/AAAAAAAA+H8AAAAAAAD4fwAAAAAAAPh/AAAAAAAA+H8AAAAAAAD4fwAAAAAAAPh/AAAAAAAA+H8AAAAAAAD4fwAAAAAAAPh/AAAAAAAA+H8AAAAAAAD4fwAAAAAAAPh/AAAAAAAA+H8AAAAAAAD4fwAAAAAAAPh/AAAAAAAA+H8=\",\"dtype\":\"float64\",\"shape\":[88]},\"boiling point\":{\"__ndarray__\":\"AAAAAAAANEAAAAAAAAAQQAAAAAAAPJlAAAAAAABupUAAAAAAALGwQAAAAAAAzLBAAAAAAABAU0AAAAAAAIBWQAAAAAAAQFVAAAAAAAAAO0AAAAAAABCSQAAAAAAATJVAAAAAAADQpUAAAAAAAMqoQAAAAAAAUIFAAAAAAABwhkAAAAAAAOBtQAAAAAAAwFVAAAAAAAAgkEAAAAAAAHSbQAAAAAAAPqhAAAAAAADQq0AAAAAAAMCsQAAAAAAAAKdAAAAAAAA8okAAAAAAAHyoQAAAAAAAAKlAAAAAAADkqEAAAAAAAACpQAAAAAAAcJJAAAAAAABao0AAAAAAACqoQAAAAAAAuItAAAAAAADwjUAAAAAAAMB0QAAAAAAAAF5AAAAAAAAIjkAAAAAAANyZQAAAAAAARKxAAAAAAABKskAAAAAAAJmzQAAAAAAAMLNAAAAAAAC6sUAAAAAAAEexQAAAAAAAAK9AAAAAAABIqUAAAAAAAAajQAAAAAAAQJBAAAAAAABSokAAAAAAAHamQAAAAAAAEJ1AAAAAAAC0k0AAAAAAAJB8QAAAAAAAoGRAAAAAAACAjUAAAAAAAL6gQAAAAAAADLNAAAAAAABjtkAAAAAAAMS2QAAAAAAA7bZAAAAAAACltEAAAAAAAF2yQAAAAAAAArBAAAAAAAByqEAAAAAAALCDQAAAAAAASJtAAAAAAACYn0AAAAAAALScQAAAAAAATJNAAAAAAAAA+H8AAAAAAGBqQAAAAAAAAPh/AAAAAABon0AAAAAAAAD4fwAAAAAAAPh/AAAAAAAA+H8AAAAAAAD4fwAAAAAAAPh/AAAAAAAA+H8AAAAAAAD4fwAAAAAAAPh/AAAAAAAA+H8AAAAAAAD4fwAAAAAAAPh/AAAAAAAA+H8AAAAAAAD4fwAAAAAAAPh/AAAAAAAA+H8=\",\"dtype\":\"float64\",\"shape\":[88]},\"bonding type\":[\"diatomic\",\"atomic\",\"metallic\",\"metallic\",\"covalent network\",\"covalent network\",\"diatomic\",\"diatomic\",\"atomic\",\"atomic\",\"metallic\",\"metallic\",\"metallic\",\"metallic\",\"covalent network\",\"covalent network\",\"covalent network\",\"atomic\",\"metallic\",\"metallic\",\"metallic\",\"metallic\",\"metallic\",\"metallic\",\"metallic\",\"metallic\",\"metallic\",\"metallic\",\"metallic\",\"metallic\",\"metallic\",\"metallic\",\"metallic\",\"metallic\",\"covalent network\",\"atomic\",\"metallic\",\"metallic\",\"metallic\",\"metallic\",\"metallic\",\"metallic\",\"metallic\",\"metallic\",\"metallic\",\"metallic\",\"metallic\",\"metallic\",\"metallic\",\"metallic\",\"metallic\",\"metallic\",\"covalent network\",\"atomic\",\"metallic\",\"metallic\",\"metallic\",\"metallic\",\"metallic\",\"metallic\",\"metallic\",\"metallic\",\"metallic\",\"metallic\",\"metallic\",\"metallic\",\"metallic\",\"metallic\",\"metallic\",\"covalent network\",\"atomic\",\"metallic\",\"metallic\",\"NaN\",\"NaN\",\"NaN\",\"NaN\",\"NaN\",\"NaN\",\"NaN\",\"NaN\",\"NaN\",\"NaN\",\"NaN\",\"NaN\",\"NaN\",\"NaN\",\"NaN\"],\"density\":{\"__ndarray__\":\"4yZZPRaRFz8AAAAAAAAAAEjhehSuR+E/mpmZmZmZ/T+uR+F6FK4DQBSuR+F6FAJAAAAAAAAAAAAAAAAAAAAAAAAAAAAAAAAAAAAAAAAAAAAK16NwPQrvP9ejcD0K1/s/mpmZmZmZBUCkcD0K16MCQB+F61G4Hv0/XI/C9Shc/z8AAAAAAAAAAAAAAAAAAAAAhetRuB6F6z/NzMzMzMz4P+xRuB6F6wdACtejcD0KEkBxPQrXo3AYQI/C9ShcjxxA4XoUrkfhHUB7FK5H4XofQM3MzMzMzCFAUrgehevRIUDXo3A9CtchQI/C9ShcjxxAmpmZmZmZF0BI4XoUrkcVQOxRuB6F6xZASOF6FK5HE0D2KFyPwvUIQAAAAAAAAAAAexSuR+F6+D8K16NwPQoFQOF6FK5H4RFACtejcD0KGkCkcD0K1yMhQI/C9ShcjyRAAAAAAAAAJ0A9CtejcL0oQGZmZmZm5ihACtejcD0KKEB7FK5H4fokQM3MzMzMTCFAPQrXo3A9HUA9CtejcD0dQM3MzMzMzBpA9ihcj8L1GEDD9Shcj8ITQHsUrkfheoQ/FK5H4XoU/j8UrkfhehQMQB+F61G4nipAZmZmZmamMEAAAAAAAEAzQIXrUbgeBTVA16NwPQqXNkCPwvUoXI82QNejcD0KFzVAzczMzMxMM0CPwvUoXA8rQDMzMzMzsydArkfhehSuJkCPwvUoXI8jQGZmZmZmZiJAAAAAAAAA+H97FK5H4XqEPwAAAAAAAPh/AAAAAAAAFEAAAAAAAAD4fwAAAAAAAPh/AAAAAAAA+H8AAAAAAAD4fwAAAAAAAPh/AAAAAAAA+H8AAAAAAAD4fwAAAAAAAPh/AAAAAAAA+H8AAAAAAAD4fwAAAAAAAPh/AAAAAAAA+H8AAAAAAAD4fwAAAAAAAPh/AAAAAAAA+H8=\",\"dtype\":\"float64\",\"shape\":[88]},\"electronegativity\":{\"__ndarray__\":\"mpmZmZmZAUAAAAAAAAD4f1yPwvUoXO8/H4XrUbge+T9SuB6F61EAQGZmZmZmZgRAUrgehetRCECF61G4HoULQNejcD0K1w9AAAAAAAAA+H/D9Shcj8LtP/YoXI/C9fQ/w/UoXI/C+T9mZmZmZmb+P4XrUbgehQFApHA9CtejBEBI4XoUrkcJQAAAAAAAAPh/PQrXo3A96j8AAAAAAADwP8P1KFyPwvU/pHA9Ctej+D8UrkfhehT6P4/C9Shcj/o/zczMzMzM+D9I4XoUrkf9PxSuR+F6FP4/j8L1KFyP/j9mZmZmZmb+P2ZmZmZmZvo/9ihcj8L1/D8UrkfhehQAQHE9CtejcAFAZmZmZmZmBECuR+F6FK4HQAAAAAAAAPh/PQrXo3A96j9mZmZmZmbuP4XrUbgehfM/SOF6FK5H9T+amZmZmZn5P0jhehSuRwFAZmZmZmZm/j+amZmZmZkBQD0K16NwPQJAmpmZmZmZAUDhehSuR+H+PwrXo3A9Cvs/exSuR+F6/D9cj8L1KFz/P2ZmZmZmZgBAzczMzMzMAEBI4XoUrkcFQAAAAAAAAPh/SOF6FK5H6T97FK5H4XrsP83MzMzMzPQ/AAAAAAAA+D/hehSuR+ECQGZmZmZmZv4/mpmZmZmZAUCamZmZmZkBQD0K16NwPQJAUrgehetRBEAAAAAAAAAAQFK4HoXrUQBApHA9CtejAkApXI/C9SgAQAAAAAAAAABAmpmZmZmZAUAAAAAAAAD4f2ZmZmZmZuY/zczMzMzM7D8AAAAAAAD4fwAAAAAAAPh/AAAAAAAA+H8AAAAAAAD4fwAAAAAAAPh/AAAAAAAA+H8AAAAAAAD4fwAAAAAAAPh/AAAAAAAA+H8AAAAAAAD4fwAAAAAAAPh/AAAAAAAA+H8AAAAAAAD4fwAAAAAAAPh/AAAAAAAA+H8=\",\"dtype\":\"float64\",\"shape\":[88]},\"electronic configuration\":[\"1s1\",\"1s2\",\"[He] 2s1\",\"[He] 2s2\",\"[He] 2s2 2p1\",\"[He] 2s2 2p2\",\"[He] 2s2 2p3\",\"[He] 2s2 2p4\",\"[He] 2s2 2p5\",\"[He] 2s2 2p6\",\"[Ne] 3s1\",\"[Ne] 3s2\",\"[Ne] 3s2 3p1\",\"[Ne] 3s2 3p2\",\"[Ne] 3s2 3p3\",\"[Ne] 3s2 3p4\",\"[Ne] 3s2 3p5\",\"[Ne] 3s2 3p6\",\"[Ar] 4s1\",\"[Ar] 4s2\",\"[Ar] 3d1 4s2\",\"[Ar] 3d2 4s2\",\"[Ar] 3d3 4s2\",\"[Ar] 3d5 4s1\",\"[Ar] 3d5 4s2\",\"[Ar] 3d6 4s2\",\"[Ar] 3d7 4s2\",\"[Ar] 3d8 4s2\",\"[Ar] 3d10 4s1\",\"[Ar] 3d10 4s2\",\"[Ar] 3d10 4s2 4p1\",\"[Ar] 3d10 4s2 4p2\",\"[Ar] 3d10 4s2 4p3\",\"[Ar] 3d10 4s2 4p4\",\"[Ar] 3d10 4s2 4p5\",\"[Ar] 3d10 4s2 4p6\",\"[Kr] 5s1\",\"[Kr] 5s2\",\"[Kr] 4d1 5s2\",\"[Kr] 4d2 5s2\",\"[Kr] 4d4 5s1\",\"[Kr] 4d5 5s1\",\"[Kr] 4d5 5s2\",\"[Kr] 4d7 5s1\",\"[Kr] 4d8 5s1\",\"[Kr] 4d10\",\"[Kr] 4d10 5s1\",\"[Kr] 4d10 5s2\",\"[Kr] 4d10 5s2 5p1\",\"[Kr] 4d10 5s2 5p2\",\"[Kr] 4d10 5s2 5p3\",\"[Kr] 4d10 5s2 5p4\",\"[Kr] 4d10 5s2 5p5\",\"[Kr] 4d10 5s2 5p6\",\"[Xe] 6s1\",\"[Xe] 6s2\",\"[Xe] 4f14 5d2 6s2\",\"[Xe] 4f14 5d3 6s2\",\"[Xe] 4f14 5d4 6s2\",\"[Xe] 4f14 5d5 6s2\",\"[Xe] 4f14 5d6 6s2\",\"[Xe] 4f14 5d7 6s2\",\"[Xe] 4f14 5d9 6s1\",\"[Xe] 4f14 5d10 6s1\",\"[Xe] 4f14 5d10 6s2\",\"[Xe] 4f14 5d10 6s2 6p1\",\"[Xe] 4f14 5d10 6s2 6p2\",\"[Xe] 4f14 5d10 6s2 6p3\",\"[Xe] 4f14 5d10 6s2 6p4\",\"[Xe] 4f14 5d10 6s2 6p5\",\"[Xe] 4f14 5d10 6s2 6p6\",\"[Rn] 7s1\",\"[Rn] 7s2\",\"[Rn] 5f14 6d2 7s2\",\"[Rn].5f14.6d3.7s2\",\"[Rn].5f14.6d4.7s2\",\"[Rn].5f14.6d5.7s2\",\"[Rn].5f14.6d6.7s2\",\"[Rn].5f14.6d7.7s2\",\"[Rn].5f14.6d9.7s1\",\"[Rn].5f14.6d10.7s1\",\"[Rn].5f14.6d10.7s2\",\"[Rn].5f14.6d10.7s2.7p1\",\"[Rn].5f14.6d10.7s2.7p2\",\"[Rn].5f14.6d10.7s2.7p3\",\"[Rn].5f14.6d10.7s2.7p4\",\"[Rn].5f14.6d10.7s2.7p5\",\"[Rn].5f14.6d10.7s2.7p6\"],\"group\":[\"1\",\"18\",\"1\",\"2\",\"13\",\"14\",\"15\",\"16\",\"17\",\"18\",\"1\",\"2\",\"13\",\"14\",\"15\",\"16\",\"17\",\"18\",\"1\",\"2\",\"3\",\"4\",\"5\",\"6\",\"7\",\"8\",\"9\",\"10\",\"11\",\"12\",\"13\",\"14\",\"15\",\"16\",\"17\",\"18\",\"1\",\"2\",\"3\",\"4\",\"5\",\"6\",\"7\",\"8\",\"9\",\"10\",\"11\",\"12\",\"13\",\"14\",\"15\",\"16\",\"17\",\"18\",\"1\",\"2\",\"4\",\"5\",\"6\",\"7\",\"8\",\"9\",\"10\",\"11\",\"12\",\"13\",\"14\",\"15\",\"16\",\"17\",\"18\",\"1\",\"2\",\"4\",\"5\",\"6\",\"7\",\"8\",\"9\",\"10\",\"11\",\"12\",\"13\",\"14\",\"15\",\"16\",\"17\",\"18\"],\"index\":[0,1,2,3,4,5,6,7,8,9,10,11,12,13,14,15,16,17,18,19,20,21,22,23,24,25,26,27,28,29,30,31,32,33,34,35,36,37,38,39,40,41,42,43,44,45,46,47,48,49,50,51,52,53,54,55,71,72,73,74,75,76,77,78,79,80,81,82,83,84,85,86,87,103,104,105,106,107,108,109,110,111,112,113,114,115,116,117],\"ion radius\":[\"NaN\",\"NaN\",\"76 (+1)\",\"45 (+2)\",\"27 (+3)\",\"16 (+4)\",\"146 (-3)\",\"140 (-2)\",\"133 (-1)\",\"NaN\",\"102 (+1)\",\"72 (+2)\",\"53.5 (+3)\",\"40 (+4)\",\"44 (+3)\",\"184 (-2)\",\"181 (-1)\",\"NaN\",\"138 (+1)\",\"100 (+2)\",\"74.5 (+3)\",\"86 (+2)\",\"79 (+2)\",\"80 (+2*)\",\"67 (+2)\",\"78 (+2*)\",\"74.5 (+2*)\",\"69 (+2)\",\"77 (+1)\",\"74 (+2)\",\"62 (+3)\",\"73 (+2)\",\"58 (+3)\",\"198 (-2)\",\"196 (-1)\",\"NaN\",\"152 (+1)\",\"118 (+2)\",\"90 (+3)\",\"72 (+4)\",\"72 (+3)\",\"69 (+3)\",\"64.5 (+4)\",\"68 (+3)\",\"66.5 (+3)\",\"59 (+1)\",\"115 (+1)\",\"95 (+2)\",\"80 (+3)\",\"112 (+2)\",\"76 (+3)\",\"221 (-2)\",\"220 (-1)\",\"48 (+8)\",\"167 (+1)\",\"135 (+2)\",\"71 (+4)\",\"72 (+3)\",\"66 (+4)\",\"63 (+4)\",\"63 (+4)\",\"68 (+3)\",\"86 (+2)\",\"137 (+1)\",\"119 (+1)\",\"150 (+1)\",\"119 (+2)\",\"103 (+3)\",\"94 (+4)\",\"62 (+7)\",\"NaN\",\"180 (+1)\",\"148 (+2)\",\"NaN\",\"NaN\",\"NaN\",\"NaN\",\"NaN\",\"NaN\",\"NaN\",\"NaN\",\"NaN\",\"NaN\",\"NaN\",\"NaN\",\"NaN\",\"NaN\",\"NaN\"],\"melting point\":{\"__ndarray__\":\"AAAAAAAALEAAAAAAAAD4fwAAAAAAYHxAAAAAAABgmEAAAAAAAFiiQAAAAAAA3q1AAAAAAACAT0AAAAAAAIBLQAAAAAAAAEtAAAAAAAAAOUAAAAAAADB3QAAAAAAA2IxAAAAAAAAojUAAAAAAAFyaQAAAAAAA0HNAAAAAAABAeEAAAAAAAIBlQAAAAAAAAFVAAAAAAAAQdUAAAAAAAGyRQAAAAAAAWJxAAAAAAABUnkAAAAAAAA6hQAAAAAAACKFAAAAAAAC8l0AAAAAAAEycQAAAAAAAoJtAAAAAAAAAm0AAAAAAADiVQAAAAAAAqIVAAAAAAADwckAAAAAAAOySQAAAAAAACJFAAAAAAADgfkAAAAAAAKBwQAAAAAAAAF1AAAAAAACAc0AAAAAAAGiQQAAAAAAAHJxAAAAAAACgoEAAAAAAAHylQAAAAAAAoKZAAAAAAAD8okAAAAAAAF6kQAAAAAAAeqFAAAAAAACQnEAAAAAAAEyTQAAAAAAAkIJAAAAAAADgekAAAAAAAJB/QAAAAAAAQIxAAAAAAACYhkAAAAAAADB4QAAAAAAAIGRAAAAAAADgckAAAAAAAECPQAAAAAAAlKNAAAAAAAC0qUAAAAAAAN6sQAAAAAAABqtAAAAAAADUqUAAAAAAAGalQAAAAAAA5J9AAAAAAADklEAAAAAAAEBtQAAAAAAACIJAAAAAAADIgkAAAAAAAACBQAAAAAAAeIBAAAAAAAD4gUAAAAAAAEBpQAAAAAAAAPh/AAAAAABojkAAAAAAAAD4fwAAAAAAAPh/AAAAAAAA+H8AAAAAAAD4fwAAAAAAAPh/AAAAAAAA+H8AAAAAAAD4fwAAAAAAAPh/AAAAAAAA+H8AAAAAAAD4fwAAAAAAAPh/AAAAAAAA+H8AAAAAAAD4fwAAAAAAAPh/AAAAAAAA+H8=\",\"dtype\":\"float64\",\"shape\":[88]},\"metal\":[\"nonmetal\",\"noble gas\",\"alkali metal\",\"alkaline earth metal\",\"metalloid\",\"nonmetal\",\"nonmetal\",\"nonmetal\",\"halogen\",\"noble gas\",\"alkali metal\",\"alkaline earth metal\",\"metal\",\"metalloid\",\"nonmetal\",\"nonmetal\",\"halogen\",\"noble gas\",\"alkali metal\",\"alkaline earth metal\",\"transition metal\",\"transition metal\",\"transition metal\",\"transition metal\",\"transition metal\",\"transition metal\",\"transition metal\",\"transition metal\",\"transition metal\",\"transition metal\",\"metal\",\"metalloid\",\"metalloid\",\"nonmetal\",\"halogen\",\"noble gas\",\"alkali metal\",\"alkaline earth metal\",\"transition metal\",\"transition metal\",\"transition metal\",\"transition metal\",\"transition metal\",\"transition metal\",\"transition metal\",\"transition metal\",\"transition metal\",\"transition metal\",\"metal\",\"metal\",\"metalloid\",\"metalloid\",\"halogen\",\"noble gas\",\"alkali metal\",\"alkaline earth metal\",\"transition metal\",\"transition metal\",\"transition metal\",\"transition metal\",\"transition metal\",\"transition metal\",\"transition metal\",\"transition metal\",\"transition metal\",\"metal\",\"metal\",\"metal\",\"metalloid\",\"halogen\",\"noble gas\",\"alkali metal\",\"alkaline earth metal\",\"transition metal\",\"transition metal\",\"transition metal\",\"transition metal\",\"transition metal\",\"transition metal\",\"transition metal\",\"transition metal\",\"transition metal\",\"metal\",\"metal\",\"metal\",\"metal\",\"halogen\",\"noble gas\"],\"name\":[\"Hydrogen\",\"Helium\",\"Lithium\",\"Beryllium\",\"Boron\",\"Carbon\",\"Nitrogen\",\"Oxygen\",\"Fluorine\",\"Neon\",\"Sodium\",\"Magnesium\",\"Aluminum\",\"Silicon\",\"Phosphorus\",\"Sulfur\",\"Chlorine\",\"Argon\",\"Potassium\",\"Calcium\",\"Scandium\",\"Titanium\",\"Vanadium\",\"Chromium\",\"Manganese\",\"Iron\",\"Cobalt\",\"Nickel\",\"Copper\",\"Zinc\",\"Gallium\",\"Germanium\",\"Arsenic\",\"Selenium\",\"Bromine\",\"Krypton\",\"Rubidium\",\"Strontium\",\"Yttrium\",\"Zirconium\",\"Niobium\",\"Molybdenum\",\"Technetium\",\"Ruthenium\",\"Rhodium\",\"Palladium\",\"Silver\",\"Cadmium\",\"Indium\",\"Tin\",\"Antimony\",\"Tellurium\",\"Iodine\",\"Xenon\",\"Cesium\",\"Barium\",\"Hafnium\",\"Tantalum\",\"Tungsten\",\"Rhenium\",\"Osmium\",\"Iridium\",\"Platinum\",\"Gold\",\"Mercury\",\"Thallium\",\"Lead\",\"Bismuth\",\"Polonium\",\"Astatine\",\"Radon\",\"Francium\",\"Radium\",\"Rutherfordium\",\"Dubnium\",\"Seaborgium\",\"Bohrium\",\"Hassium\",\"Meitnerium\",\"Darmstadtium\",\"Roentgenium\",\"Copernicium\",\"Nihomium\",\"Flerovium\",\"Moscovium\",\"Livermorium\",\"Tennessine\",\"Oganesson\"],\"period\":[\"I\",\"I\",\"II\",\"II\",\"II\",\"II\",\"II\",\"II\",\"II\",\"II\",\"III\",\"III\",\"III\",\"III\",\"III\",\"III\",\"III\",\"III\",\"IV\",\"IV\",\"IV\",\"IV\",\"IV\",\"IV\",\"IV\",\"IV\",\"IV\",\"IV\",\"IV\",\"IV\",\"IV\",\"IV\",\"IV\",\"IV\",\"IV\",\"IV\",\"V\",\"V\",\"V\",\"V\",\"V\",\"V\",\"V\",\"V\",\"V\",\"V\",\"V\",\"V\",\"V\",\"V\",\"V\",\"V\",\"V\",\"V\",\"VI\",\"VI\",\"VI\",\"VI\",\"VI\",\"VI\",\"VI\",\"VI\",\"VI\",\"VI\",\"VI\",\"VI\",\"VI\",\"VI\",\"VI\",\"VI\",\"VI\",\"VII\",\"VII\",\"VII\",\"VII\",\"VII\",\"VII\",\"VII\",\"VII\",\"VII\",\"VII\",\"VII\",\"VII\",\"VII\",\"VII\",\"VII\",\"VII\",\"VII\"],\"standard state\":[\"gas\",\"gas\",\"solid\",\"solid\",\"solid\",\"solid\",\"gas\",\"gas\",\"gas\",\"gas\",\"solid\",\"solid\",\"solid\",\"solid\",\"solid\",\"solid\",\"gas\",\"gas\",\"solid\",\"solid\",\"solid\",\"solid\",\"solid\",\"solid\",\"solid\",\"solid\",\"solid\",\"solid\",\"solid\",\"solid\",\"solid\",\"solid\",\"solid\",\"solid\",\"liquid\",\"gas\",\"solid\",\"solid\",\"solid\",\"solid\",\"solid\",\"solid\",\"solid\",\"solid\",\"solid\",\"solid\",\"solid\",\"solid\",\"solid\",\"solid\",\"solid\",\"solid\",\"solid\",\"gas\",\"solid\",\"solid\",\"solid\",\"solid\",\"solid\",\"solid\",\"solid\",\"solid\",\"solid\",\"solid\",\"liquid\",\"solid\",\"solid\",\"solid\",\"solid\",\"solid\",\"gas\",\"solid\",\"solid\",\"NaN\",\"NaN\",\"NaN\",\"NaN\",\"NaN\",\"NaN\",\"NaN\",\"NaN\",\"NaN\",\"NaN\",\"NaN\",\"NaN\",\"NaN\",\"NaN\",\"NaN\"],\"symbol\":[\"H\",\"He\",\"Li\",\"Be\",\"B\",\"C\",\"N\",\"O\",\"F\",\"Ne\",\"Na\",\"Mg\",\"Al\",\"Si\",\"P\",\"S\",\"Cl\",\"Ar\",\"K\",\"Ca\",\"Sc\",\"Ti\",\"V\",\"Cr\",\"Mn\",\"Fe\",\"Co\",\"Ni\",\"Cu\",\"Zn\",\"Ga\",\"Ge\",\"As\",\"Se\",\"Br\",\"Kr\",\"Rb\",\"Sr\",\"Y\",\"Zr\",\"Nb\",\"Mo\",\"Tc\",\"Ru\",\"Rh\",\"Pd\",\"Ag\",\"Cd\",\"In\",\"Sn\",\"Sb\",\"Te\",\"I\",\"Xe\",\"Cs\",\"Ba\",\"Hf\",\"Ta\",\"W\",\"Re\",\"Os\",\"Ir\",\"Pt\",\"Au\",\"Hg\",\"Tl\",\"Pb\",\"Bi\",\"Po\",\"At\",\"Rn\",\"Fr\",\"Ra\",\"Rf\",\"Db\",\"Sg\",\"Bh\",\"Hs\",\"Mt\",\"Ds\",\"Rg\",\"Cn\",\"Nh\",\"Fl\",\"Mc\",\"Lv\",\"Ts\",\"Og\"],\"van der Waals radius\":{\"__ndarray__\":\"AAAAAAAAXkAAAAAAAIBhQAAAAAAAwGZAAAAAAAAA+H8AAAAAAAD4fwAAAAAAQGVAAAAAAABgY0AAAAAAAABjQAAAAAAAYGJAAAAAAABAY0AAAAAAAGBsQAAAAAAAoGVAAAAAAAAA+H8AAAAAAEBqQAAAAAAAgGZAAAAAAACAZkAAAAAAAOBlQAAAAAAAgGdAAAAAAAAwcUAAAAAAAAD4fwAAAAAAAPh/AAAAAAAA+H8AAAAAAAD4fwAAAAAAAPh/AAAAAAAA+H8AAAAAAAD4fwAAAAAAAPh/AAAAAABgZEAAAAAAAIBhQAAAAAAAYGFAAAAAAABgZ0AAAAAAAAD4fwAAAAAAIGdAAAAAAADAZ0AAAAAAACBnQAAAAAAAQGlAAAAAAAAA+H8AAAAAAAD4fwAAAAAAAPh/AAAAAAAA+H8AAAAAAAD4fwAAAAAAAPh/AAAAAAAA+H8AAAAAAAD4fwAAAAAAAPh/AAAAAABgZEAAAAAAAIBlQAAAAAAAwGNAAAAAAAAgaEAAAAAAACBrQAAAAAAAAPh/AAAAAADAaUAAAAAAAMBoQAAAAAAAAGtAAAAAAAAA+H8AAAAAAAD4fwAAAAAAAPh/AAAAAAAA+H8AAAAAAAD4fwAAAAAAAPh/AAAAAAAA+H8AAAAAAAD4fwAAAAAA4GVAAAAAAADAZEAAAAAAAGBjQAAAAAAAgGhAAAAAAABAaUAAAAAAAAD4fwAAAAAAAPh/AAAAAAAA+H8AAAAAAAD4fwAAAAAAAPh/AAAAAAAA+H8AAAAAAAD4fwAAAAAAAPh/AAAAAAAA+H8AAAAAAAD4fwAAAAAAAPh/AAAAAAAA+H8AAAAAAAD4fwAAAAAAAPh/AAAAAAAA+H8AAAAAAAD4fwAAAAAAAPh/AAAAAAAA+H8AAAAAAAD4fwAAAAAAAPh/AAAAAAAA+H8=\",\"dtype\":\"float64\",\"shape\":[88]},\"year discovered\":[\"1766\",\"1868\",\"1817\",\"1798\",\"1807\",\"Ancient\",\"1772\",\"1774\",\"1670\",\"1898\",\"1807\",\"1808\",\"Ancient\",\"1854\",\"1669\",\"Ancient\",\"1774\",\"1894\",\"1807\",\"Ancient\",\"1876\",\"1791\",\"1803\",\"Ancient\",\"1774\",\"Ancient\",\"Ancient\",\"1751\",\"Ancient\",\"1746\",\"1875\",\"1886\",\"Ancient\",\"1817\",\"1826\",\"1898\",\"1861\",\"1790\",\"1794\",\"1789\",\"1801\",\"1778\",\"1937\",\"1827\",\"1803\",\"1803\",\"Ancient\",\"1817\",\"1863\",\"Ancient\",\"Ancient\",\"1782\",\"1811\",\"1898\",\"1860\",\"1808\",\"1923\",\"1802\",\"1783\",\"1925\",\"1803\",\"1803\",\"Ancient\",\"Ancient\",\"Ancient\",\"1861\",\"Ancient\",\"Ancient\",\"1898\",\"1940\",\"1900\",\"1939\",\"1898\",\"1969\",\"1967\",\"1974\",\"1976\",\"1984\",\"1982\",\"1994\",\"1994\",\"1996\",\"2003\",\"1998\",\"2003\",\"2000\",\"2010\",\"2002\"]}},\"id\":\"fb83a8e3-4584-4be9-b9a3-2e55a0c454ef\",\"type\":\"ColumnDataSource\"},{\"attributes\":{\"data_source\":{\"id\":\"fb83a8e3-4584-4be9-b9a3-2e55a0c454ef\",\"type\":\"ColumnDataSource\"},\"glyph\":{\"id\":\"cd966d78-6b0a-4c9c-bbf2-d2fd9d584e8a\",\"type\":\"Text\"},\"hover_glyph\":null,\"muted_glyph\":null,\"nonselection_glyph\":{\"id\":\"66e4caea-cb87-4828-bdbd-eb1f1c660409\",\"type\":\"Text\"},\"selection_glyph\":null,\"view\":{\"id\":\"65bb5421-1e74-41c4-8ca0-dcf7f98adfff\",\"type\":\"CDSView\"}},\"id\":\"ddc78c12-8317-4bdf-b3fb-4928c0d1ba6f\",\"type\":\"GlyphRenderer\"},{\"attributes\":{\"source\":{\"id\":\"fb83a8e3-4584-4be9-b9a3-2e55a0c454ef\",\"type\":\"ColumnDataSource\"}},\"id\":\"8b42aeb7-7e1b-468d-9d15-6305b408c24b\",\"type\":\"CDSView\"},{\"attributes\":{\"fill_alpha\":{\"value\":0.6},\"fill_color\":{\"field\":\"metal\",\"transform\":{\"id\":\"9288c045-4a6b-45ce-9abf-82ea78583d84\",\"type\":\"CategoricalColorMapper\"}},\"height\":{\"units\":\"data\",\"value\":0.95},\"line_color\":{\"field\":\"metal\",\"transform\":{\"id\":\"9288c045-4a6b-45ce-9abf-82ea78583d84\",\"type\":\"CategoricalColorMapper\"}},\"width\":{\"units\":\"data\",\"value\":0.95},\"x\":{\"field\":\"group\"},\"y\":{\"field\":\"period\"}},\"id\":\"f9e6766d-c99d-4368-a236-741b94d92755\",\"type\":\"Rect\"},{\"attributes\":{\"data_source\":{\"id\":\"85843e8c-fc9b-4992-aa74-f767456dbcac\",\"type\":\"ColumnDataSource\"},\"glyph\":{\"id\":\"3b052815-2887-4a0f-8c38-8903356e8007\",\"type\":\"Text\"},\"hover_glyph\":null,\"muted_glyph\":null,\"nonselection_glyph\":{\"id\":\"af8a0af0-c696-4d42-9fe0-176e37912662\",\"type\":\"Text\"},\"selection_glyph\":null,\"view\":{\"id\":\"4439c235-eb60-4ae2-8101-3269ece31ddd\",\"type\":\"CDSView\"}},\"id\":\"571f4508-3b39-439e-8558-3e398578ff87\",\"type\":\"GlyphRenderer\"},{\"attributes\":{\"label\":{\"field\":\"metal\"},\"renderers\":[{\"id\":\"129bdf98-ea4f-4114-9870-3af0d70f5dc4\",\"type\":\"GlyphRenderer\"}]},\"id\":\"e44a4dce-1978-461f-932b-8ea74daffdeb\",\"type\":\"LegendItem\"},{\"attributes\":{\"text\":{\"field\":\"name\"},\"text_baseline\":\"middle\",\"text_color\":{\"value\":\"black\"},\"text_font_size\":{\"value\":\"5pt\"},\"x\":{\"field\":\"group\",\"transform\":{\"id\":\"a59bc762-aaf2-48e0-8b19-68f5fcf89df4\",\"type\":\"Dodge\"}},\"y\":{\"field\":\"period\",\"transform\":{\"id\":\"e0f7801e-9e2c-4856-acd0-4b45a8ce05d7\",\"type\":\"Dodge\"}}},\"id\":\"06c4c794-ae1d-47f9-bdca-b35b29c0212f\",\"type\":\"Text\"},{\"attributes\":{\"callback\":null,\"tooltips\":[[\"Name\",\"@name\"],[\"Atomic number\",\"@{atomic number}\"],[\"Atomic mass\",\"@{atomic mass}\"],[\"Type\",\"@metal\"],[\"CPK color\",\"$color[hex, swatch]:CPK\"],[\"Electronic configuration\",\"@{electronic configuration}\"]]},\"id\":\"5d5d27cc-f89a-4166-93fc-44c4a3c5da0b\",\"type\":\"HoverTool\"},{\"attributes\":{\"source\":{\"id\":\"fb83a8e3-4584-4be9-b9a3-2e55a0c454ef\",\"type\":\"ColumnDataSource\"}},\"id\":\"2bdb4954-cd87-42d9-95c6-1dc82d15b8c6\",\"type\":\"CDSView\"},{\"attributes\":{\"text\":{\"field\":\"atomic number\"},\"text_baseline\":\"middle\",\"text_color\":{\"value\":\"black\"},\"text_font_size\":{\"value\":\"8pt\"},\"x\":{\"field\":\"group\",\"transform\":{\"id\":\"a59bc762-aaf2-48e0-8b19-68f5fcf89df4\",\"type\":\"Dodge\"}},\"y\":{\"field\":\"period\",\"transform\":{\"id\":\"af17882f-b3c7-4834-9ea0-4e2a78e34d3d\",\"type\":\"Dodge\"}}},\"id\":\"9c04511c-39d5-4532-9926-d9bdadfcaec5\",\"type\":\"Text\"},{\"attributes\":{\"data_source\":{\"id\":\"fb83a8e3-4584-4be9-b9a3-2e55a0c454ef\",\"type\":\"ColumnDataSource\"},\"glyph\":{\"id\":\"3aa4803c-ac7e-42aa-8704-94bd49bb3291\",\"type\":\"Text\"},\"hover_glyph\":null,\"muted_glyph\":null,\"nonselection_glyph\":{\"id\":\"0992e33a-9888-4bbf-a17c-923eb8184ff1\",\"type\":\"Text\"},\"selection_glyph\":null,\"view\":{\"id\":\"438c0baa-d084-4883-a1e2-151da693b2e5\",\"type\":\"CDSView\"}},\"id\":\"90b9b4b9-d33c-48f6-acd0-0c1d372121f7\",\"type\":\"GlyphRenderer\"},{\"attributes\":{},\"id\":\"ac377f04-5a91-4d34-bf9f-1bcdeef6cd32\",\"type\":\"CategoricalScale\"},{\"attributes\":{\"text\":{\"field\":\"symbol\"},\"text_alpha\":{\"value\":0.1},\"text_baseline\":\"middle\",\"text_color\":{\"value\":\"black\"},\"x\":{\"field\":\"group\",\"transform\":{\"id\":\"a59bc762-aaf2-48e0-8b19-68f5fcf89df4\",\"type\":\"Dodge\"}},\"y\":{\"field\":\"period\"}},\"id\":\"0992e33a-9888-4bbf-a17c-923eb8184ff1\",\"type\":\"Text\"},{\"attributes\":{},\"id\":\"26f82af8-311c-4ea8-a0b6-37fe54d42aed\",\"type\":\"CategoricalScale\"},{\"attributes\":{},\"id\":\"9a6ebe2e-289e-4334-b669-ba7500e15cf5\",\"type\":\"CategoricalTickFormatter\"},{\"attributes\":{\"text_align\":\"center\",\"text_baseline\":\"middle\",\"text_color\":{\"value\":\"black\"},\"x\":{\"field\":\"x\"},\"y\":{\"field\":\"y\"}},\"id\":\"3b052815-2887-4a0f-8c38-8903356e8007\",\"type\":\"Text\"},{\"attributes\":{\"callback\":null,\"column_names\":[\"x\",\"text\",\"y\"],\"data\":{\"text\":[\"LA\",\"AC\"],\"x\":[\"3\",\"3\"],\"y\":[\"VI\",\"VII\"]}},\"id\":\"85843e8c-fc9b-4992-aa74-f767456dbcac\",\"type\":\"ColumnDataSource\"},{\"attributes\":{\"data_source\":{\"id\":\"fb83a8e3-4584-4be9-b9a3-2e55a0c454ef\",\"type\":\"ColumnDataSource\"},\"glyph\":{\"id\":\"f9e6766d-c99d-4368-a236-741b94d92755\",\"type\":\"Rect\"},\"hover_glyph\":null,\"muted_glyph\":null,\"nonselection_glyph\":{\"id\":\"933e98c0-8c43-4b5a-bc0a-7b52e64577a3\",\"type\":\"Rect\"},\"selection_glyph\":null,\"view\":{\"id\":\"2bdb4954-cd87-42d9-95c6-1dc82d15b8c6\",\"type\":\"CDSView\"}},\"id\":\"129bdf98-ea4f-4114-9870-3af0d70f5dc4\",\"type\":\"GlyphRenderer\"},{\"attributes\":{\"data_source\":{\"id\":\"fb83a8e3-4584-4be9-b9a3-2e55a0c454ef\",\"type\":\"ColumnDataSource\"},\"glyph\":{\"id\":\"9c04511c-39d5-4532-9926-d9bdadfcaec5\",\"type\":\"Text\"},\"hover_glyph\":null,\"muted_glyph\":null,\"nonselection_glyph\":{\"id\":\"6934d522-70df-421d-b54d-5ed37194717b\",\"type\":\"Text\"},\"selection_glyph\":null,\"view\":{\"id\":\"538dcc80-aa0e-4a25-880d-2ce084534e6a\",\"type\":\"CDSView\"}},\"id\":\"2e147854-ba28-4a9a-97b9-644060b6a97f\",\"type\":\"GlyphRenderer\"},{\"attributes\":{},\"id\":\"7b6ba8e5-f7db-4bea-8b22-f13930f885f2\",\"type\":\"CategoricalTickFormatter\"},{\"attributes\":{\"fill_alpha\":{\"value\":0.1},\"fill_color\":{\"value\":\"#1f77b4\"},\"height\":{\"units\":\"data\",\"value\":0.95},\"line_alpha\":{\"value\":0.1},\"line_color\":{\"value\":\"#1f77b4\"},\"width\":{\"units\":\"data\",\"value\":0.95},\"x\":{\"field\":\"group\"},\"y\":{\"field\":\"period\"}},\"id\":\"933e98c0-8c43-4b5a-bc0a-7b52e64577a3\",\"type\":\"Rect\"},{\"attributes\":{\"text_align\":\"center\",\"text_alpha\":{\"value\":0.1},\"text_baseline\":\"middle\",\"text_color\":{\"value\":\"black\"},\"x\":{\"field\":\"x\"},\"y\":{\"field\":\"y\"}},\"id\":\"af8a0af0-c696-4d42-9fe0-176e37912662\",\"type\":\"Text\"},{\"attributes\":{\"source\":{\"id\":\"fb83a8e3-4584-4be9-b9a3-2e55a0c454ef\",\"type\":\"ColumnDataSource\"}},\"id\":\"438c0baa-d084-4883-a1e2-151da693b2e5\",\"type\":\"CDSView\"},{\"attributes\":{\"range\":{\"id\":\"ac92286d-c113-48f9-b245-abc23ec953b6\",\"type\":\"FactorRange\"},\"value\":-0.4},\"id\":\"a59bc762-aaf2-48e0-8b19-68f5fcf89df4\",\"type\":\"Dodge\"},{\"attributes\":{\"range\":{\"id\":\"a406f10e-d4ed-4c87-9617-65ea1b8cf7f6\",\"type\":\"FactorRange\"},\"value\":0.3},\"id\":\"af17882f-b3c7-4834-9ea0-4e2a78e34d3d\",\"type\":\"Dodge\"},{\"attributes\":{\"callback\":null,\"factors\":[\"VII\",\"VI\",\"V\",\"IV\",\"III\",\"II\",\"I\"]},\"id\":\"a406f10e-d4ed-4c87-9617-65ea1b8cf7f6\",\"type\":\"FactorRange\"},{\"attributes\":{},\"id\":\"39baa638-f0e6-4156-8dfb-535cf31d7e46\",\"type\":\"CategoricalTicker\"},{\"attributes\":{\"items\":[{\"id\":\"e44a4dce-1978-461f-932b-8ea74daffdeb\",\"type\":\"LegendItem\"}],\"location\":\"top_center\",\"orientation\":\"horizontal\",\"plot\":{\"id\":\"666522a4-3c98-474a-85a1-4c1ad8429638\",\"subtype\":\"Figure\",\"type\":\"Plot\"}},\"id\":\"f3d80ce8-ac4e-4d8c-891d-99c89ee89aa7\",\"type\":\"Legend\"},{\"attributes\":{\"callback\":null,\"factors\":[\"1\",\"2\",\"3\",\"4\",\"5\",\"6\",\"7\",\"8\",\"9\",\"10\",\"11\",\"12\",\"13\",\"14\",\"15\",\"16\",\"17\",\"18\"]},\"id\":\"ac92286d-c113-48f9-b245-abc23ec953b6\",\"type\":\"FactorRange\"},{\"attributes\":{\"text\":{\"field\":\"atomic number\"},\"text_alpha\":{\"value\":0.1},\"text_baseline\":\"middle\",\"text_color\":{\"value\":\"black\"},\"x\":{\"field\":\"group\",\"transform\":{\"id\":\"a59bc762-aaf2-48e0-8b19-68f5fcf89df4\",\"type\":\"Dodge\"}},\"y\":{\"field\":\"period\",\"transform\":{\"id\":\"af17882f-b3c7-4834-9ea0-4e2a78e34d3d\",\"type\":\"Dodge\"}}},\"id\":\"6934d522-70df-421d-b54d-5ed37194717b\",\"type\":\"Text\"},{\"attributes\":{\"text\":{\"field\":\"atomic mass\"},\"text_alpha\":{\"value\":0.1},\"text_baseline\":\"middle\",\"text_color\":{\"value\":\"black\"},\"x\":{\"field\":\"group\",\"transform\":{\"id\":\"a59bc762-aaf2-48e0-8b19-68f5fcf89df4\",\"type\":\"Dodge\"}},\"y\":{\"field\":\"period\",\"transform\":{\"id\":\"921bb46d-de31-494d-8412-fb94a5f5ad21\",\"type\":\"Dodge\"}}},\"id\":\"66e4caea-cb87-4828-bdbd-eb1f1c660409\",\"type\":\"Text\"},{\"attributes\":{\"text\":{\"field\":\"atomic mass\"},\"text_baseline\":\"middle\",\"text_color\":{\"value\":\"black\"},\"text_font_size\":{\"value\":\"5pt\"},\"x\":{\"field\":\"group\",\"transform\":{\"id\":\"a59bc762-aaf2-48e0-8b19-68f5fcf89df4\",\"type\":\"Dodge\"}},\"y\":{\"field\":\"period\",\"transform\":{\"id\":\"921bb46d-de31-494d-8412-fb94a5f5ad21\",\"type\":\"Dodge\"}}},\"id\":\"cd966d78-6b0a-4c9c-bbf2-d2fd9d584e8a\",\"type\":\"Text\"},{\"attributes\":{\"grid_line_color\":{\"value\":null},\"plot\":{\"id\":\"666522a4-3c98-474a-85a1-4c1ad8429638\",\"subtype\":\"Figure\",\"type\":\"Plot\"},\"ticker\":{\"id\":\"39baa638-f0e6-4156-8dfb-535cf31d7e46\",\"type\":\"CategoricalTicker\"}},\"id\":\"a60af16a-68a8-450e-9de3-db284c2362fa\",\"type\":\"Grid\"}],\"root_ids\":[\"666522a4-3c98-474a-85a1-4c1ad8429638\"]},\"title\":\"Bokeh Application\",\"version\":\"0.12.9\"}};\n",
       "    var render_items = [{\"docid\":\"3b1c115c-3c94-4424-b67d-f0fdb2cbc3fa\",\"elementid\":\"b73bdcc9-0f19-4d65-893a-93fe6d9ecd33\",\"modelid\":\"666522a4-3c98-474a-85a1-4c1ad8429638\",\"notebook_comms_target\":\"249a8df2-46ed-4aa4-abf3-9e6f2fcfca5e\"}];\n",
       "\n",
       "    root.Bokeh.embed.embed_items(docs_json, render_items);\n",
       "  }\n",
       "\n",
       "  if (root.Bokeh !== undefined) {\n",
       "    embed_document(root);\n",
       "  } else {\n",
       "    var attempts = 0;\n",
       "    var timer = setInterval(function(root) {\n",
       "      if (root.Bokeh !== undefined) {\n",
       "        embed_document(root);\n",
       "        clearInterval(timer);\n",
       "      }\n",
       "      attempts++;\n",
       "      if (attempts > 100) {\n",
       "        console.log(\"Bokeh: ERROR: Unable to embed document because BokehJS library is missing\")\n",
       "        clearInterval(timer);\n",
       "      }\n",
       "    }, 10, root)\n",
       "  }\n",
       "})(window);"
      ],
      "application/vnd.bokehjs_exec.v0+json": ""
     },
     "metadata": {
      "application/vnd.bokehjs_exec.v0+json": {
       "id": "666522a4-3c98-474a-85a1-4c1ad8429638"
      }
     },
     "output_type": "display_data"
    }
   ],
   "source": [
    "from bokeh.io import output_notebook, show\n",
    "from resources.bokeh_example import periodic_table\n",
    "pt = periodic_table()\n",
    "output_notebook()\n",
    "show(pt, notebook_handle=True);"
   ]
  },
  {
   "cell_type": "markdown",
   "metadata": {
    "slideshow": {
     "slide_type": "slide"
    }
   },
   "source": [
    "# Thank **You** and **everyone** who:\n",
    "## - helped\n",
    "## - shared knowledge\n",
    "## - inspired"
   ]
  }
 ],
 "metadata": {
  "celltoolbar": "Slideshow",
  "kernelspec": {
   "display_name": "awesome notebooks",
   "language": "python",
   "name": "jp_nb"
  },
  "language_info": {
   "codemirror_mode": {
    "name": "ipython",
    "version": 3
   },
   "file_extension": ".py",
   "mimetype": "text/x-python",
   "name": "python",
   "nbconvert_exporter": "python",
   "pygments_lexer": "ipython3",
   "version": "3.5.2"
  },
  "toc": {
   "colors": {
    "hover_highlight": "#DAA520",
    "running_highlight": "#FF0000",
    "selected_highlight": "#FFD700"
   },
   "moveMenuLeft": true,
   "nav_menu": {
    "height": "4px",
    "width": "254px"
   },
   "navigate_menu": true,
   "number_sections": false,
   "sideBar": true,
   "threshold": 4,
   "toc_cell": false,
   "toc_section_display": "block",
   "toc_window_display": false
  }
 },
 "nbformat": 4,
 "nbformat_minor": 2
}
